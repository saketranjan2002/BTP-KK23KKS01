{
  "cells": [
    {
      "cell_type": "code",
      "execution_count": 1,
      "metadata": {
        "colab": {
          "base_uri": "https://localhost:8080/",
          "height": 34
        },
        "colab_type": "code",
        "id": "FEFO4mGvbnlF",
        "outputId": "e0fde6b6-53b2-419b-a411-af0ff8a79562"
      },
      "outputs": [
        {
          "name": "stderr",
          "output_type": "stream",
          "text": [
            "Using TensorFlow backend.\n"
          ]
        }
      ],
      "source": [
        "import numpy as np\n",
        "import pandas as pd\n",
        "import matplotlib.pyplot as plt\n",
        "%matplotlib inline\n",
        "from keras.models import Sequential\n",
        "from keras.layers import Dense\n",
        "from keras import optimizers\n",
        "from keras import backend as K\n",
        "import json\n",
        "from sklearn.utils import shuffle\n",
        "import os\n",
        "import sys\n",
        "import time\n",
        "from sklearn.model_selection import train_test_split\n",
        "from sklearn.metrics import classification_report, f1_score, accuracy_score,recall_score, precision_score"
      ]
    },
    {
      "cell_type": "code",
      "execution_count": 3,
      "metadata": {
        "colab": {
          "base_uri": "https://localhost:8080/",
          "height": 84
        },
        "colab_type": "code",
        "id": "G54yYRK3bhde",
        "outputId": "b1460377-4f00-46d9-a729-92c93730cc10"
      },
      "outputs": [
        {
          "name": "stdout",
          "output_type": "stream",
          "text": [
            "AWID-CLS-R-Trn/\n",
            "AWID-CLS-R-Trn/1\n",
            "AWID-CLS-R-Tst/\n",
            "AWID-CLS-R-Tst/1\n"
          ]
        }
      ],
      "source": [
        "!tar -xvzf AWID-CLS-R-Trn.tar.gz\n",
        "!tar -xvzf AWID-CLS-R-Tst.tar.gz"
      ]
    },
    {
      "cell_type": "code",
      "execution_count": 4,
      "metadata": {
        "colab": {
          "base_uri": "https://localhost:8080/",
          "height": 34
        },
        "colab_type": "code",
        "id": "xHxe_kZtiQcD",
        "outputId": "99f04b2b-838e-41f5-d2aa-406dde41e943"
      },
      "outputs": [
        {
          "name": "stdout",
          "output_type": "stream",
          "text": [
            "mkdir: cannot create directory ‘splitted’: File exists\n"
          ]
        }
      ],
      "source": [
        "!mkdir splitted\n",
        "\n",
        "train_path = \"splitted/train.csv\"\n",
        "test_path = \"splitted/test.csv\""
      ]
    },
    {
      "cell_type": "code",
      "execution_count": null,
      "metadata": {
        "colab": {},
        "colab_type": "code",
        "id": "wUy5UJdSftEA"
      },
      "outputs": [],
      "source": [
        "names = [\"frame.interface_id\" ,\"frame.dlt\" ,\"frame.offset_shift\",\"frame.time_epoch\" ,\n",
        "        \"frame.time_delta\" ,\"frame.time_delta_displayed\" ,\"frame.time_relative\" ,\n",
        "         \"frame.len\" ,\"frame.cap_len\" ,\"frame.marked\" ,\"frame.ignored\" ,\"radiotap.version\" ,\n",
        "    \"radiotap.pad\" ,\"radiotap.length\" ,\"radiotap.present.tsft\" ,\"radiotap.present.flags\" ,\"radiotap.present.rate\" ,\n",
        "    \"radiotap.present.channel\" ,\"radiotap.present.fhss\" ,\"radiotap.present.dbm_antsignal\" ,\"radiotap.present.dbm_antnoise\" ,\n",
        "    \"radiotap.present.lock_quality\" ,\"radiotap.present.tx_attenuation\" ,\"radiotap.present.db_tx_attenuation\" ,\n",
        "    \"radiotap.present.dbm_tx_power\" ,\"radiotap.present.antenna\" ,\"radiotap.present.db_antsignal\" ,\"radiotap.present.db_antnoise\" ,\n",
        "    \"radiotap.present.rxflags\" ,\"radiotap.present.xchannel\" ,\"radiotap.present.mcs\" ,\"radiotap.present.ampdu\" ,\"radiotap.present.vht\" ,\n",
        "    \"radiotap.present.reserved\" ,\"radiotap.present.rtap_ns\" ,\"radiotap.present.vendor_ns\" ,\"radiotap.present.ext\" ,\n",
        "    \"radiotap.mactime\" ,\"radiotap.flags.cfp\" ,\"radiotap.flags.preamble\" ,\"radiotap.flags.wep\" ,\"radiotap.flags.frag\" ,\n",
        "    \"radiotap.flags.fcs\" ,\"radiotap.flags.datapad\" ,\"radiotap.flags.badfcs\" ,\"radiotap.flags.shortgi\" ,\"radiotap.datarate\" ,\n",
        "    \"radiotap.channel.freq\" ,\"radiotap.channel.type.turbo\" ,\"radiotap.channel.type.cck\" ,\"radiotap.channel.type.ofdm\" ,\n",
        "    \"radiotap.channel.type.2ghz\" ,\"radiotap.channel.type.5ghz\" ,\"radiotap.channel.type.passive\" ,\"radiotap.channel.type.dynamic\" ,\n",
        "    \"raÇdiotap.channel.type.gfsk\" ,\"radiotap.channel.type.gsm\" ,\"radiotap.channel.type.sturbo\" ,\"radiotap.channel.type.half\" ,\n",
        "    \"radiotap.channel.type.quarter\" ,\"radiotap.dbm_antsignal\" ,\"radiotap.antenna\" ,\"radiotap.rxflags.badplcp\" ,\"wlan.fc.type_subtype\" ,\n",
        "    \"wlan.fc.version\" ,\"wlan.fc.type\" ,\"wlan.fc.subtype\" ,\"wlan.fc.ds\" ,\"wlan.fc.frag\" ,\"wlan.fc.retry\" ,\"wlan.fc.pwrmgt\" ,\n",
        "    \"wlan.fc.moredata\" ,\"wlan.fc.protected\" ,\"wlan.fc.order\" ,\"wlan.duration\" ,\"wlan.ra\" ,\"wlan.da\" ,\"wlan.ta\" ,\"wlan.sa\" ,\n",
        "    \"wlan.bssid\" ,\"wlan.frag\" ,\"wlan.seq\" ,\"wlan.bar.type\" ,\"wlan.ba.control.ackpolicy\" ,\"wlan.ba.control.multitid\" ,\n",
        "    \"wlan.ba.control.cbitmap\" ,\"wlan.bar.compressed.tidinfo\" ,\"wlan.ba.bm\" ,\"wlan.fcs_good\" ,\"wlan_mgt.fixed.capabilities.ess\" ,\n",
        "    \"wlan_mgt.fixed.capabilities.ibss\" ,\"wlan_mgt.fixed.capabilities.cfpoll.ap\" ,\"wlan_mgt.fixed.capabilities.privacy\" ,\n",
        "    \"wlan_mgt.fixed.capabilities.preamble\" ,\"wlan_mgt.fixed.capabilities.pbcc\" ,\"wlan_mgt.fixed.capabilities.agility\" ,\n",
        "    \"wlan_mgt.fixed.capabilities.spec_man\" ,\"wlan_mgt.fixed.capabilities.short_slot_time\" ,\"wlan_mgt.fixed.capabilities.apsd\" ,\n",
        "    \"wlan_mgt.fixed.capabilities.radio_measurement\" ,\"wlan_mgt.fixed.capabilities.dsss_ofdm\" ,\"wlan_mgt.fixed.capabilities.del_blk_ack\" ,\n",
        "    \"wlan_mgt.fixed.capabilities.imm_blk_ack\" ,\"wlan_mgt.fixed.listen_ival\" ,\"wlan_mgt.fixed.current_ap\" ,\"wlan_mgt.fixed.status_code\" ,\n",
        "    \"wlan_mgt.fixed.timestamp\" ,\"wlan_mgt.fixed.beacon\" ,\"wlan_mgt.fixed.aid\" ,\"wlan_mgt.fixed.reason_code\" ,\"wlan_mgt.fixed.auth.alg\" ,\n",
        "    \"wlan_mgt.fixed.auth_seq\" ,\"wlan_mgt.fixed.category_code\" ,\"wlan_mgt.fixed.htact\" ,\"wlan_mgt.fixed.chanwidth\" ,\n",
        "    \"wlan_mgt.fixed.fragment\" ,\"wlan_mgt.fixed.sequence\" ,\"wlan_mgt.tagged.all\" ,\"wlan_mgt.ssid\" ,\"wlan_mgt.ds.current_channel\" ,\n",
        "    \"wlan_mgt.tim.dtim_count\" ,\"wlan_mgt.tim.dtim_period\" ,\"wlan_mgt.tim.bmapctl.multicast\" ,\"wlan_mgt.tim.bmapctl.offset\" ,\n",
        "    \"wlan_mgt.country_info.environment\" ,\"wlan_mgt.rsn.version\" ,\"wlan_mgt.rsn.gcs.type\" ,\"wlan_mgt.rsn.pcs.count\" ,\n",
        "    \"wlan_mgt.rsn.akms.count\" ,\"wlan_mgt.rsn.akms.type\" ,\"wlan_mgt.rsn.capabilities.preauth\" ,\"wlan_mgt.rsn.capabilities.no_pairwise\" ,\n",
        "    \"wlan_mgt.rsn.capabilities.ptksa_replay_counter\" ,\"wlan_mgt.rsn.capabilities.gtksa_replay_counter\" ,\"wlan_mgt.rsn.capabilities.mfpr\" ,\n",
        "    \"wlan_mgt.rsn.capabilities.mfpc\" ,\"wlan_mgt.rsn.capabilities.peerkey\" ,\"wlan_mgt.tcprep.trsmt_pow\" ,\"wlan_mgt.tcprep.link_mrg\" ,\n",
        "    \"wlan.wep.iv\" ,\"wlan.wep.key\" ,\"wlan.wep.icv\" ,\"wlan.tkip.extiv\" ,\"wlan.ccmp.extiv\" ,\"wlan.qos.tid\" ,\"wlan.qos.priority\" ,\n",
        "    \"wlan.qos.eosp\" ,\"wlan.qos.ack\" ,\"wlan.qos.amsdupresent\" ,\"wlan.qos.buf_state_indicated\" ,\"wlan.qos.bit4\" ,\n",
        "    \"wlan.qos.txop_dur_req\" ,\"wlan.qos.buf_state_indicated\" ,\"data.len\" ,\"class\"]"
      ]
    },
    {
      "cell_type": "code",
      "execution_count": null,
      "metadata": {
        "colab": {},
        "colab_type": "code",
        "id": "rBeqlxB1Hptv"
      },
      "outputs": [],
      "source": [
        "colnames_good_df = pd.read_csv(\"/content/gdrive/My Drive/my_datasets/Awid/colnames_good.csv\",names=[\"colnames\"])\n",
        "colnames_good = colnames_good_df['colnames'].tolist()"
      ]
    },
    {
      "cell_type": "code",
      "execution_count": 7,
      "metadata": {
        "colab": {
          "base_uri": "https://localhost:8080/",
          "height": 70
        },
        "colab_type": "code",
        "id": "lJlWn4BtcZx4",
        "outputId": "a0ba8945-3a51-4bbc-e0f0-b4081465e7e2"
      },
      "outputs": [
        {
          "name": "stderr",
          "output_type": "stream",
          "text": [
            "/usr/local/lib/python3.6/dist-packages/pandas/io/parsers.py:709: UserWarning: Duplicate names specified. This will raise an error in the future.\n",
            "  return _read(filepath_or_buffer, kwds)\n"
          ]
        }
      ],
      "source": [
        "train = pd.read_csv(\"AWID-CLS-R-Trn/1\", names=names, usecols=colnames_good)"
      ]
    },
    {
      "cell_type": "code",
      "execution_count": 8,
      "metadata": {
        "colab": {
          "base_uri": "https://localhost:8080/",
          "height": 70
        },
        "colab_type": "code",
        "id": "p54-dQO336F7",
        "outputId": "365a8c56-365e-4661-e157-9e9ae13950f3"
      },
      "outputs": [
        {
          "name": "stderr",
          "output_type": "stream",
          "text": [
            "/usr/local/lib/python3.6/dist-packages/pandas/io/parsers.py:709: UserWarning: Duplicate names specified. This will raise an error in the future.\n",
            "  return _read(filepath_or_buffer, kwds)\n"
          ]
        }
      ],
      "source": [
        "test = pd.read_csv(\"AWID-CLS-R-Tst/1\", names=names, usecols=colnames_good)"
      ]
    },
    {
      "cell_type": "markdown",
      "metadata": {
        "colab_type": "text",
        "id": "CFVq5S4xBcXY"
      },
      "source": [
        "### Preprocessing"
      ]
    },
    {
      "cell_type": "code",
      "execution_count": 9,
      "metadata": {
        "colab": {
          "base_uri": "https://localhost:8080/",
          "height": 50
        },
        "colab_type": "code",
        "id": "JoujDQHTQ2OD",
        "outputId": "13185b12-c23c-4a91-f5e6-824a8d0fe0a5"
      },
      "outputs": [
        {
          "name": "stdout",
          "output_type": "stream",
          "text": [
            "(1795575, 49)\n",
            "(575643, 49)\n"
          ]
        }
      ],
      "source": [
        "print(train.shape)\n",
        "print(test.shape)"
      ]
    },
    {
      "cell_type": "code",
      "execution_count": 10,
      "metadata": {
        "colab": {
          "base_uri": "https://localhost:8080/",
          "height": 84
        },
        "colab_type": "code",
        "id": "54infFBHBC0h",
        "outputId": "24bbe447-55d7-44ea-a414-157dbbb463c5"
      },
      "outputs": [
        {
          "name": "stdout",
          "output_type": "stream",
          "text": [
            "Dataset without labels shape:(2371218, 48)\n",
            "Dataset with categoricals encoded:(2371218, 70)\n",
            "Dataset dropping nan:(2371218, 46)\n",
            "Dataset with labels again:(2371218, 47)\n"
          ]
        }
      ],
      "source": [
        "train_indx = train.shape[0]\n",
        "\n",
        "df = train.append(test, ignore_index=True)\n",
        "\n",
        "# Remove labels column\n",
        "labels = df['class']\n",
        "df = df.drop('class',axis=1)\n",
        "\n",
        "print(\"Dataset without labels shape:{}\".format(df.shape))\n",
        "\n",
        "\n",
        "# Processing categorical and numerical columns\n",
        "num_cols = list(df._get_numeric_data().columns)\n",
        "cat_cols = list(set(df.columns)-set(num_cols))\n",
        "\n",
        "\n",
        "# Normalization of the df\n",
        "#log_cols = self.df.filter(like='logarithm').columns\n",
        "#nat_cols =  list(set(self.df.columns)-set(log_cols))\n",
        "#self.df.reset_index()\n",
        "df[num_cols] = (df[num_cols]-df[num_cols].min())/(df[num_cols].max()-df[num_cols].min())\n",
        "\n",
        "\n",
        "for name_col in cat_cols:\n",
        "    df = pd.concat([df.drop(name_col, axis=1), pd.get_dummies(df[name_col],prefix=name_col)], axis=1)\n",
        "\n",
        "print(\"Dataset with categoricals encoded:{}\".format(df.shape))\n",
        "\n",
        "# If na max and min = 0 so delete column\n",
        "df = df.dropna(axis=1)\n",
        "\n",
        "# Delete row\n",
        "#self.df = self.df.dropna(axis=0)\n",
        "print(\"Dataset dropping nan:{}\".format(df.shape))\n",
        "\n",
        "# Add labels again\n",
        "df['labels']=labels\n",
        "\n",
        "\n",
        "print(\"Dataset with labels again:{}\".format(df.shape))\n",
        "\n",
        "\n",
        "train = df.iloc[:train_indx]\n",
        "test = df.iloc[train_indx:]"
      ]
    },
    {
      "cell_type": "code",
      "execution_count": 11,
      "metadata": {
        "colab": {
          "base_uri": "https://localhost:8080/",
          "height": 50
        },
        "colab_type": "code",
        "id": "doAyeUMdxL7G",
        "outputId": "695ec170-bc0e-45e6-9a0b-a2fe4ca53305"
      },
      "outputs": [
        {
          "name": "stdout",
          "output_type": "stream",
          "text": [
            "(1795575, 47)\n",
            "(575643, 47)\n"
          ]
        }
      ],
      "source": [
        "print(train.shape)\n",
        "print(test.shape)"
      ]
    },
    {
      "cell_type": "code",
      "execution_count": null,
      "metadata": {
        "colab": {},
        "colab_type": "code",
        "id": "Pj8-UQ5_ypLe"
      },
      "outputs": [],
      "source": [
        "train.to_csv(train_path,index=False)\n",
        "test.to_csv(test_path,index=False)"
      ]
    },
    {
      "cell_type": "code",
      "execution_count": 13,
      "metadata": {
        "colab": {
          "base_uri": "https://localhost:8080/",
          "height": 890
        },
        "colab_type": "code",
        "id": "5H_JmUZtceEN",
        "outputId": "85207a1d-afc3-4f32-d260-665ff72634e5"
      },
      "outputs": [
        {
          "name": "stdout",
          "output_type": "stream",
          "text": [
            "<class 'pandas.core.frame.DataFrame'>\n",
            "RangeIndex: 1795575 entries, 0 to 1795574\n",
            "Data columns (total 47 columns):\n",
            "frame.time_epoch                        float64\n",
            "frame.time_delta                        float64\n",
            "frame.time_delta_displayed              float64\n",
            "frame.time_relative                     float64\n",
            "frame.len                               float64\n",
            "frame.cap_len                           float64\n",
            "radiotap.length                         float64\n",
            "radiotap.present.tsft                   float64\n",
            "radiotap.present.flags                  float64\n",
            "radiotap.present.channel                float64\n",
            "radiotap.present.dbm_antsignal          float64\n",
            "radiotap.present.antenna                float64\n",
            "radiotap.present.rxflags                float64\n",
            "radiotap.datarate                       float64\n",
            "wlan.fc.type                            float64\n",
            "wlan.fc.subtype                         float64\n",
            "wlan.fc.frag                            float64\n",
            "wlan.fc.retry                           float64\n",
            "wlan.fc.pwrmgt                          float64\n",
            "wlan.fc.moredata                        float64\n",
            "wlan.fc.protected                       float64\n",
            "radiotap.present.reserved_0x00000000    uint8\n",
            "wlan.fc.ds_0x00                         uint8\n",
            "wlan.fc.ds_0x01                         uint8\n",
            "wlan.fc.ds_0x02                         uint8\n",
            "wlan.fc.type_subtype_0x00               uint8\n",
            "wlan.fc.type_subtype_0x01               uint8\n",
            "wlan.fc.type_subtype_0x02               uint8\n",
            "wlan.fc.type_subtype_0x03               uint8\n",
            "wlan.fc.type_subtype_0x04               uint8\n",
            "wlan.fc.type_subtype_0x05               uint8\n",
            "wlan.fc.type_subtype_0x08               uint8\n",
            "wlan.fc.type_subtype_0x0a               uint8\n",
            "wlan.fc.type_subtype_0x0b               uint8\n",
            "wlan.fc.type_subtype_0x0c               uint8\n",
            "wlan.fc.type_subtype_0x0d               uint8\n",
            "wlan.fc.type_subtype_0x18               uint8\n",
            "wlan.fc.type_subtype_0x19               uint8\n",
            "wlan.fc.type_subtype_0x1a               uint8\n",
            "wlan.fc.type_subtype_0x1b               uint8\n",
            "wlan.fc.type_subtype_0x1c               uint8\n",
            "wlan.fc.type_subtype_0x1d               uint8\n",
            "wlan.fc.type_subtype_0x20               uint8\n",
            "wlan.fc.type_subtype_0x24               uint8\n",
            "wlan.fc.type_subtype_0x28               uint8\n",
            "wlan.fc.type_subtype_0x2c               uint8\n",
            "labels                                  object\n",
            "dtypes: float64(21), object(1), uint8(25)\n",
            "memory usage: 344.2+ MB\n"
          ]
        }
      ],
      "source": [
        "train.info()"
      ]
    },
    {
      "cell_type": "code",
      "execution_count": 14,
      "metadata": {
        "colab": {
          "base_uri": "https://localhost:8080/",
          "height": 333
        },
        "colab_type": "code",
        "id": "7GmfCWBXc0du",
        "outputId": "3727ef01-f241-42d9-c6a7-b7ce9a451192"
      },
      "outputs": [
        {
          "data": {
            "text/html": [
              "<div>\n",
              "<style scoped>\n",
              "    .dataframe tbody tr th:only-of-type {\n",
              "        vertical-align: middle;\n",
              "    }\n",
              "\n",
              "    .dataframe tbody tr th {\n",
              "        vertical-align: top;\n",
              "    }\n",
              "\n",
              "    .dataframe thead th {\n",
              "        text-align: right;\n",
              "    }\n",
              "</style>\n",
              "<table border=\"1\" class=\"dataframe\">\n",
              "  <thead>\n",
              "    <tr style=\"text-align: right;\">\n",
              "      <th></th>\n",
              "      <th>frame.time_epoch</th>\n",
              "      <th>frame.time_delta</th>\n",
              "      <th>frame.time_delta_displayed</th>\n",
              "      <th>frame.time_relative</th>\n",
              "      <th>frame.len</th>\n",
              "      <th>frame.cap_len</th>\n",
              "      <th>radiotap.length</th>\n",
              "      <th>radiotap.present.tsft</th>\n",
              "      <th>radiotap.present.flags</th>\n",
              "      <th>radiotap.present.channel</th>\n",
              "      <th>...</th>\n",
              "      <th>wlan.fc.type_subtype_0x18</th>\n",
              "      <th>wlan.fc.type_subtype_0x19</th>\n",
              "      <th>wlan.fc.type_subtype_0x1a</th>\n",
              "      <th>wlan.fc.type_subtype_0x1b</th>\n",
              "      <th>wlan.fc.type_subtype_0x1c</th>\n",
              "      <th>wlan.fc.type_subtype_0x1d</th>\n",
              "      <th>wlan.fc.type_subtype_0x20</th>\n",
              "      <th>wlan.fc.type_subtype_0x24</th>\n",
              "      <th>wlan.fc.type_subtype_0x28</th>\n",
              "      <th>wlan.fc.type_subtype_0x2c</th>\n",
              "    </tr>\n",
              "  </thead>\n",
              "  <tbody>\n",
              "    <tr>\n",
              "      <th>count</th>\n",
              "      <td>1.795575e+06</td>\n",
              "      <td>1.795575e+06</td>\n",
              "      <td>1.795575e+06</td>\n",
              "      <td>1.795575e+06</td>\n",
              "      <td>1.795575e+06</td>\n",
              "      <td>1.795575e+06</td>\n",
              "      <td>1.795575e+06</td>\n",
              "      <td>1.795575e+06</td>\n",
              "      <td>1.795575e+06</td>\n",
              "      <td>1.795575e+06</td>\n",
              "      <td>...</td>\n",
              "      <td>1.795575e+06</td>\n",
              "      <td>1.795575e+06</td>\n",
              "      <td>1.795575e+06</td>\n",
              "      <td>1.795575e+06</td>\n",
              "      <td>1.795575e+06</td>\n",
              "      <td>1.795575e+06</td>\n",
              "      <td>1.795575e+06</td>\n",
              "      <td>1.795575e+06</td>\n",
              "      <td>1.795575e+06</td>\n",
              "      <td>1.795575e+06</td>\n",
              "    </tr>\n",
              "    <tr>\n",
              "      <th>mean</th>\n",
              "      <td>2.312808e-01</td>\n",
              "      <td>5.723385e-03</td>\n",
              "      <td>5.723385e-03</td>\n",
              "      <td>5.195880e-01</td>\n",
              "      <td>3.106633e-01</td>\n",
              "      <td>3.106633e-01</td>\n",
              "      <td>9.995656e-01</td>\n",
              "      <td>9.995656e-01</td>\n",
              "      <td>9.995656e-01</td>\n",
              "      <td>9.995656e-01</td>\n",
              "      <td>...</td>\n",
              "      <td>1.280927e-05</td>\n",
              "      <td>4.344012e-05</td>\n",
              "      <td>6.638542e-04</td>\n",
              "      <td>7.100789e-04</td>\n",
              "      <td>1.999694e-02</td>\n",
              "      <td>2.321902e-01</td>\n",
              "      <td>1.302697e-01</td>\n",
              "      <td>1.033875e-02</td>\n",
              "      <td>3.683216e-01</td>\n",
              "      <td>5.524693e-04</td>\n",
              "    </tr>\n",
              "    <tr>\n",
              "      <th>std</th>\n",
              "      <td>1.072683e-01</td>\n",
              "      <td>1.821356e-02</td>\n",
              "      <td>1.821356e-02</td>\n",
              "      <td>2.409856e-01</td>\n",
              "      <td>4.345912e-01</td>\n",
              "      <td>4.345912e-01</td>\n",
              "      <td>2.083777e-02</td>\n",
              "      <td>2.083777e-02</td>\n",
              "      <td>2.083777e-02</td>\n",
              "      <td>2.083777e-02</td>\n",
              "      <td>...</td>\n",
              "      <td>3.578982e-03</td>\n",
              "      <td>6.590771e-03</td>\n",
              "      <td>2.575682e-02</td>\n",
              "      <td>2.663785e-02</td>\n",
              "      <td>1.399895e-01</td>\n",
              "      <td>4.222298e-01</td>\n",
              "      <td>3.366000e-01</td>\n",
              "      <td>1.011527e-01</td>\n",
              "      <td>4.823494e-01</td>\n",
              "      <td>2.349818e-02</td>\n",
              "    </tr>\n",
              "    <tr>\n",
              "      <th>min</th>\n",
              "      <td>0.000000e+00</td>\n",
              "      <td>0.000000e+00</td>\n",
              "      <td>0.000000e+00</td>\n",
              "      <td>0.000000e+00</td>\n",
              "      <td>0.000000e+00</td>\n",
              "      <td>0.000000e+00</td>\n",
              "      <td>0.000000e+00</td>\n",
              "      <td>0.000000e+00</td>\n",
              "      <td>0.000000e+00</td>\n",
              "      <td>0.000000e+00</td>\n",
              "      <td>...</td>\n",
              "      <td>0.000000e+00</td>\n",
              "      <td>0.000000e+00</td>\n",
              "      <td>0.000000e+00</td>\n",
              "      <td>0.000000e+00</td>\n",
              "      <td>0.000000e+00</td>\n",
              "      <td>0.000000e+00</td>\n",
              "      <td>0.000000e+00</td>\n",
              "      <td>0.000000e+00</td>\n",
              "      <td>0.000000e+00</td>\n",
              "      <td>0.000000e+00</td>\n",
              "    </tr>\n",
              "    <tr>\n",
              "      <th>25%</th>\n",
              "      <td>1.271072e-01</td>\n",
              "      <td>8.993242e-04</td>\n",
              "      <td>8.993242e-04</td>\n",
              "      <td>2.855550e-01</td>\n",
              "      <td>0.000000e+00</td>\n",
              "      <td>0.000000e+00</td>\n",
              "      <td>1.000000e+00</td>\n",
              "      <td>1.000000e+00</td>\n",
              "      <td>1.000000e+00</td>\n",
              "      <td>1.000000e+00</td>\n",
              "      <td>...</td>\n",
              "      <td>0.000000e+00</td>\n",
              "      <td>0.000000e+00</td>\n",
              "      <td>0.000000e+00</td>\n",
              "      <td>0.000000e+00</td>\n",
              "      <td>0.000000e+00</td>\n",
              "      <td>0.000000e+00</td>\n",
              "      <td>0.000000e+00</td>\n",
              "      <td>0.000000e+00</td>\n",
              "      <td>0.000000e+00</td>\n",
              "      <td>0.000000e+00</td>\n",
              "    </tr>\n",
              "    <tr>\n",
              "      <th>50%</th>\n",
              "      <td>2.352776e-01</td>\n",
              "      <td>1.567394e-03</td>\n",
              "      <td>1.567394e-03</td>\n",
              "      <td>5.285670e-01</td>\n",
              "      <td>4.705882e-02</td>\n",
              "      <td>4.705882e-02</td>\n",
              "      <td>1.000000e+00</td>\n",
              "      <td>1.000000e+00</td>\n",
              "      <td>1.000000e+00</td>\n",
              "      <td>1.000000e+00</td>\n",
              "      <td>...</td>\n",
              "      <td>0.000000e+00</td>\n",
              "      <td>0.000000e+00</td>\n",
              "      <td>0.000000e+00</td>\n",
              "      <td>0.000000e+00</td>\n",
              "      <td>0.000000e+00</td>\n",
              "      <td>0.000000e+00</td>\n",
              "      <td>0.000000e+00</td>\n",
              "      <td>0.000000e+00</td>\n",
              "      <td>0.000000e+00</td>\n",
              "      <td>0.000000e+00</td>\n",
              "    </tr>\n",
              "    <tr>\n",
              "      <th>75%</th>\n",
              "      <td>3.121584e-01</td>\n",
              "      <td>3.177612e-03</td>\n",
              "      <td>3.177612e-03</td>\n",
              "      <td>7.012848e-01</td>\n",
              "      <td>9.882353e-01</td>\n",
              "      <td>9.882353e-01</td>\n",
              "      <td>1.000000e+00</td>\n",
              "      <td>1.000000e+00</td>\n",
              "      <td>1.000000e+00</td>\n",
              "      <td>1.000000e+00</td>\n",
              "      <td>...</td>\n",
              "      <td>0.000000e+00</td>\n",
              "      <td>0.000000e+00</td>\n",
              "      <td>0.000000e+00</td>\n",
              "      <td>0.000000e+00</td>\n",
              "      <td>0.000000e+00</td>\n",
              "      <td>0.000000e+00</td>\n",
              "      <td>0.000000e+00</td>\n",
              "      <td>0.000000e+00</td>\n",
              "      <td>1.000000e+00</td>\n",
              "      <td>0.000000e+00</td>\n",
              "    </tr>\n",
              "    <tr>\n",
              "      <th>max</th>\n",
              "      <td>4.451235e-01</td>\n",
              "      <td>1.000000e+00</td>\n",
              "      <td>1.000000e+00</td>\n",
              "      <td>1.000000e+00</td>\n",
              "      <td>1.000000e+00</td>\n",
              "      <td>1.000000e+00</td>\n",
              "      <td>1.000000e+00</td>\n",
              "      <td>1.000000e+00</td>\n",
              "      <td>1.000000e+00</td>\n",
              "      <td>1.000000e+00</td>\n",
              "      <td>...</td>\n",
              "      <td>1.000000e+00</td>\n",
              "      <td>1.000000e+00</td>\n",
              "      <td>1.000000e+00</td>\n",
              "      <td>1.000000e+00</td>\n",
              "      <td>1.000000e+00</td>\n",
              "      <td>1.000000e+00</td>\n",
              "      <td>1.000000e+00</td>\n",
              "      <td>1.000000e+00</td>\n",
              "      <td>1.000000e+00</td>\n",
              "      <td>1.000000e+00</td>\n",
              "    </tr>\n",
              "  </tbody>\n",
              "</table>\n",
              "<p>8 rows × 46 columns</p>\n",
              "</div>"
            ],
            "text/plain": [
              "       frame.time_epoch  frame.time_delta  frame.time_delta_displayed  \\\n",
              "count      1.795575e+06      1.795575e+06                1.795575e+06   \n",
              "mean       2.312808e-01      5.723385e-03                5.723385e-03   \n",
              "std        1.072683e-01      1.821356e-02                1.821356e-02   \n",
              "min        0.000000e+00      0.000000e+00                0.000000e+00   \n",
              "25%        1.271072e-01      8.993242e-04                8.993242e-04   \n",
              "50%        2.352776e-01      1.567394e-03                1.567394e-03   \n",
              "75%        3.121584e-01      3.177612e-03                3.177612e-03   \n",
              "max        4.451235e-01      1.000000e+00                1.000000e+00   \n",
              "\n",
              "       frame.time_relative     frame.len  frame.cap_len  radiotap.length  \\\n",
              "count         1.795575e+06  1.795575e+06   1.795575e+06     1.795575e+06   \n",
              "mean          5.195880e-01  3.106633e-01   3.106633e-01     9.995656e-01   \n",
              "std           2.409856e-01  4.345912e-01   4.345912e-01     2.083777e-02   \n",
              "min           0.000000e+00  0.000000e+00   0.000000e+00     0.000000e+00   \n",
              "25%           2.855550e-01  0.000000e+00   0.000000e+00     1.000000e+00   \n",
              "50%           5.285670e-01  4.705882e-02   4.705882e-02     1.000000e+00   \n",
              "75%           7.012848e-01  9.882353e-01   9.882353e-01     1.000000e+00   \n",
              "max           1.000000e+00  1.000000e+00   1.000000e+00     1.000000e+00   \n",
              "\n",
              "       radiotap.present.tsft  radiotap.present.flags  \\\n",
              "count           1.795575e+06            1.795575e+06   \n",
              "mean            9.995656e-01            9.995656e-01   \n",
              "std             2.083777e-02            2.083777e-02   \n",
              "min             0.000000e+00            0.000000e+00   \n",
              "25%             1.000000e+00            1.000000e+00   \n",
              "50%             1.000000e+00            1.000000e+00   \n",
              "75%             1.000000e+00            1.000000e+00   \n",
              "max             1.000000e+00            1.000000e+00   \n",
              "\n",
              "       radiotap.present.channel            ...              \\\n",
              "count              1.795575e+06            ...               \n",
              "mean               9.995656e-01            ...               \n",
              "std                2.083777e-02            ...               \n",
              "min                0.000000e+00            ...               \n",
              "25%                1.000000e+00            ...               \n",
              "50%                1.000000e+00            ...               \n",
              "75%                1.000000e+00            ...               \n",
              "max                1.000000e+00            ...               \n",
              "\n",
              "       wlan.fc.type_subtype_0x18  wlan.fc.type_subtype_0x19  \\\n",
              "count               1.795575e+06               1.795575e+06   \n",
              "mean                1.280927e-05               4.344012e-05   \n",
              "std                 3.578982e-03               6.590771e-03   \n",
              "min                 0.000000e+00               0.000000e+00   \n",
              "25%                 0.000000e+00               0.000000e+00   \n",
              "50%                 0.000000e+00               0.000000e+00   \n",
              "75%                 0.000000e+00               0.000000e+00   \n",
              "max                 1.000000e+00               1.000000e+00   \n",
              "\n",
              "       wlan.fc.type_subtype_0x1a  wlan.fc.type_subtype_0x1b  \\\n",
              "count               1.795575e+06               1.795575e+06   \n",
              "mean                6.638542e-04               7.100789e-04   \n",
              "std                 2.575682e-02               2.663785e-02   \n",
              "min                 0.000000e+00               0.000000e+00   \n",
              "25%                 0.000000e+00               0.000000e+00   \n",
              "50%                 0.000000e+00               0.000000e+00   \n",
              "75%                 0.000000e+00               0.000000e+00   \n",
              "max                 1.000000e+00               1.000000e+00   \n",
              "\n",
              "       wlan.fc.type_subtype_0x1c  wlan.fc.type_subtype_0x1d  \\\n",
              "count               1.795575e+06               1.795575e+06   \n",
              "mean                1.999694e-02               2.321902e-01   \n",
              "std                 1.399895e-01               4.222298e-01   \n",
              "min                 0.000000e+00               0.000000e+00   \n",
              "25%                 0.000000e+00               0.000000e+00   \n",
              "50%                 0.000000e+00               0.000000e+00   \n",
              "75%                 0.000000e+00               0.000000e+00   \n",
              "max                 1.000000e+00               1.000000e+00   \n",
              "\n",
              "       wlan.fc.type_subtype_0x20  wlan.fc.type_subtype_0x24  \\\n",
              "count               1.795575e+06               1.795575e+06   \n",
              "mean                1.302697e-01               1.033875e-02   \n",
              "std                 3.366000e-01               1.011527e-01   \n",
              "min                 0.000000e+00               0.000000e+00   \n",
              "25%                 0.000000e+00               0.000000e+00   \n",
              "50%                 0.000000e+00               0.000000e+00   \n",
              "75%                 0.000000e+00               0.000000e+00   \n",
              "max                 1.000000e+00               1.000000e+00   \n",
              "\n",
              "       wlan.fc.type_subtype_0x28  wlan.fc.type_subtype_0x2c  \n",
              "count               1.795575e+06               1.795575e+06  \n",
              "mean                3.683216e-01               5.524693e-04  \n",
              "std                 4.823494e-01               2.349818e-02  \n",
              "min                 0.000000e+00               0.000000e+00  \n",
              "25%                 0.000000e+00               0.000000e+00  \n",
              "50%                 0.000000e+00               0.000000e+00  \n",
              "75%                 1.000000e+00               0.000000e+00  \n",
              "max                 1.000000e+00               1.000000e+00  \n",
              "\n",
              "[8 rows x 46 columns]"
            ]
          },
          "execution_count": 14,
          "metadata": {
            "tags": []
          },
          "output_type": "execute_result"
        }
      ],
      "source": [
        "train.describe()"
      ]
    },
    {
      "cell_type": "code",
      "execution_count": 15,
      "metadata": {
        "colab": {
          "base_uri": "https://localhost:8080/",
          "height": 890
        },
        "colab_type": "code",
        "id": "WXzr-11HTlU6",
        "outputId": "1f88bdcc-469a-4465-8b14-9135a1508dc8"
      },
      "outputs": [
        {
          "name": "stdout",
          "output_type": "stream",
          "text": [
            "<class 'pandas.core.frame.DataFrame'>\n",
            "RangeIndex: 575643 entries, 1795575 to 2371217\n",
            "Data columns (total 47 columns):\n",
            "frame.time_epoch                        575643 non-null float64\n",
            "frame.time_delta                        575643 non-null float64\n",
            "frame.time_delta_displayed              575643 non-null float64\n",
            "frame.time_relative                     575643 non-null float64\n",
            "frame.len                               575643 non-null float64\n",
            "frame.cap_len                           575643 non-null float64\n",
            "radiotap.length                         575643 non-null float64\n",
            "radiotap.present.tsft                   575643 non-null float64\n",
            "radiotap.present.flags                  575643 non-null float64\n",
            "radiotap.present.channel                575643 non-null float64\n",
            "radiotap.present.dbm_antsignal          575643 non-null float64\n",
            "radiotap.present.antenna                575643 non-null float64\n",
            "radiotap.present.rxflags                575643 non-null float64\n",
            "radiotap.datarate                       575643 non-null float64\n",
            "wlan.fc.type                            575643 non-null float64\n",
            "wlan.fc.subtype                         575643 non-null float64\n",
            "wlan.fc.frag                            575643 non-null float64\n",
            "wlan.fc.retry                           575643 non-null float64\n",
            "wlan.fc.pwrmgt                          575643 non-null float64\n",
            "wlan.fc.moredata                        575643 non-null float64\n",
            "wlan.fc.protected                       575643 non-null float64\n",
            "radiotap.present.reserved_0x00000000    575643 non-null uint8\n",
            "wlan.fc.ds_0x00                         575643 non-null uint8\n",
            "wlan.fc.ds_0x01                         575643 non-null uint8\n",
            "wlan.fc.ds_0x02                         575643 non-null uint8\n",
            "wlan.fc.type_subtype_0x00               575643 non-null uint8\n",
            "wlan.fc.type_subtype_0x01               575643 non-null uint8\n",
            "wlan.fc.type_subtype_0x02               575643 non-null uint8\n",
            "wlan.fc.type_subtype_0x03               575643 non-null uint8\n",
            "wlan.fc.type_subtype_0x04               575643 non-null uint8\n",
            "wlan.fc.type_subtype_0x05               575643 non-null uint8\n",
            "wlan.fc.type_subtype_0x08               575643 non-null uint8\n",
            "wlan.fc.type_subtype_0x0a               575643 non-null uint8\n",
            "wlan.fc.type_subtype_0x0b               575643 non-null uint8\n",
            "wlan.fc.type_subtype_0x0c               575643 non-null uint8\n",
            "wlan.fc.type_subtype_0x0d               575643 non-null uint8\n",
            "wlan.fc.type_subtype_0x18               575643 non-null uint8\n",
            "wlan.fc.type_subtype_0x19               575643 non-null uint8\n",
            "wlan.fc.type_subtype_0x1a               575643 non-null uint8\n",
            "wlan.fc.type_subtype_0x1b               575643 non-null uint8\n",
            "wlan.fc.type_subtype_0x1c               575643 non-null uint8\n",
            "wlan.fc.type_subtype_0x1d               575643 non-null uint8\n",
            "wlan.fc.type_subtype_0x20               575643 non-null uint8\n",
            "wlan.fc.type_subtype_0x24               575643 non-null uint8\n",
            "wlan.fc.type_subtype_0x28               575643 non-null uint8\n",
            "wlan.fc.type_subtype_0x2c               575643 non-null uint8\n",
            "labels                                  575643 non-null object\n",
            "dtypes: float64(21), object(1), uint8(25)\n",
            "memory usage: 110.3+ MB\n"
          ]
        }
      ],
      "source": [
        "test.info()"
      ]
    },
    {
      "cell_type": "code",
      "execution_count": null,
      "metadata": {
        "colab": {},
        "colab_type": "code",
        "id": "2kk6Nys7QHHm"
      },
      "outputs": [],
      "source": [
        "num_cols = list(train._get_numeric_data().columns)\n",
        "cat_cols = list(set(train.columns)-set(num_cols))"
      ]
    },
    {
      "cell_type": "code",
      "execution_count": 17,
      "metadata": {
        "colab": {
          "base_uri": "https://localhost:8080/",
          "height": 34
        },
        "colab_type": "code",
        "id": "5k4zfKxRQI9G",
        "outputId": "40dc6e6e-b89f-4c74-c16d-0e893a078220"
      },
      "outputs": [
        {
          "data": {
            "text/plain": [
              "46"
            ]
          },
          "execution_count": 17,
          "metadata": {
            "tags": []
          },
          "output_type": "execute_result"
        }
      ],
      "source": [
        "len(num_cols)"
      ]
    },
    {
      "cell_type": "code",
      "execution_count": 18,
      "metadata": {
        "colab": {
          "base_uri": "https://localhost:8080/",
          "height": 34
        },
        "colab_type": "code",
        "id": "VnVwRFWMdCEV",
        "outputId": "d8c4f10c-5016-43cf-9ca9-bf43996e54bd"
      },
      "outputs": [
        {
          "data": {
            "text/plain": [
              "(1795575, 47)"
            ]
          },
          "execution_count": 18,
          "metadata": {
            "tags": []
          },
          "output_type": "execute_result"
        }
      ],
      "source": [
        "train.shape"
      ]
    },
    {
      "cell_type": "code",
      "execution_count": null,
      "metadata": {
        "colab": {},
        "colab_type": "code",
        "id": "YKA8QTFrb1ZR"
      },
      "outputs": [],
      "source": [
        "class data_cls:\n",
        "    def __init__(self,train_test):\n",
        "        \n",
        "       \n",
        "        self.index = 0\n",
        "        if(train_test==\"train\"):\n",
        "          self.train_path = train_path\n",
        "        else:\n",
        "          self.train_path = test_path\n",
        "       \n",
        "   \n",
        "        self.df = pd.read_csv(self.train_path,sep=',')\n",
        "    \n",
        "\n",
        "         # One hot encoding for labels\n",
        "        self.df = pd.concat([self.df.drop('labels', axis=1),\n",
        "                pd.get_dummies(self.df['labels'])], axis=1)\n",
        "        \n",
        "\n",
        "        self.attack_types = ['normal', 'flooding', 'injection', 'impersonation']\n",
        "        self.all_attack_types = ['normal', 'flooding', 'injection', 'impersonation']\n",
        "        self.attack_names = ['normal', 'flooding', 'injection', 'impersonation']\n",
        "        \n",
        "\n",
        "        self.attack_map =   { 'normal': 'normal','flooding': 'flooding', 'injection':'injection', 'impersonation':'impersonation'}\n",
        "        \n",
        "        self.all_attack_names = list(self.attack_map.keys())\n",
        "\n",
        "        self.df = self.df.sample(frac=1)\n",
        "\n",
        "\n",
        "    def get_shape(self):\n",
        "              \n",
        "        self.data_shape = self.df.shape\n",
        "        # stata + labels\n",
        "        return self.data_shape\n",
        "    \n",
        "    ''' Get n-rows from loaded data \n",
        "        The dataset must be loaded in RAM\n",
        "    '''\n",
        "    def get_batch(self,batch_size=100):\n",
        "                \n",
        "        # Read the df rows\n",
        "        indexes = list(range(self.index,self.index+batch_size))    \n",
        "        if max(indexes)>self.data_shape[0]-1:\n",
        "            dif = max(indexes)-self.data_shape[0]\n",
        "            indexes[len(indexes)-dif-1:len(indexes)] = list(range(dif+1))\n",
        "            self.index=batch_size-dif\n",
        "            batch = self.df.iloc[indexes]\n",
        "        else: \n",
        "            batch = self.df.iloc[indexes]\n",
        "            self.index += batch_size    \n",
        "            \n",
        "        labels = batch[self.attack_names]\n",
        "        \n",
        "        batch = batch.drop(self.all_attack_names,axis=1)\n",
        "            \n",
        "        return batch,labels\n",
        "    \n",
        "    def get_full(self):\n",
        "              \n",
        "        labels = self.df[self.attack_names]\n",
        "        \n",
        "        batch = self.df.drop(self.all_attack_names,axis=1)\n",
        "        \n",
        "\n",
        "        return batch,labels\n",
        "  "
      ]
    },
    {
      "cell_type": "code",
      "execution_count": null,
      "metadata": {
        "colab": {},
        "colab_type": "code",
        "id": "5DbMxSATehU-"
      },
      "outputs": [],
      "source": [
        "# Huber loss function        \n",
        "def huber_loss(y_true, y_pred, clip_value=1):\n",
        "    # Huber loss, see https://en.wikipedia.org/wiki/Huber_loss and\n",
        "    # https://medium.com/@karpathy/yes-you-should-understand-backprop-e2f06eab496b\n",
        "    # for details.\n",
        "    assert clip_value > 0.\n",
        "\n",
        "    x = y_true - y_pred\n",
        "    if np.isinf(clip_value):\n",
        "        # Spacial case for infinity since Tensorflow does have problems\n",
        "        # if we compare `K.abs(x) < np.inf`.\n",
        "        return .5 * K.square(x)\n",
        "\n",
        "    condition = K.abs(x) < clip_value\n",
        "    squared_loss = .5 * K.square(x)\n",
        "    linear_loss = clip_value * (K.abs(x) - .5 * clip_value)\n",
        "    if K.backend() == 'tensorflow':\n",
        "        import tensorflow as tf\n",
        "        if hasattr(tf, 'select'):\n",
        "            return tf.select(condition, squared_loss, linear_loss)  # condition, true, false\n",
        "        else:\n",
        "            return tf.where(condition, squared_loss, linear_loss)  # condition, true, false\n",
        "    elif K.backend() == 'theano':\n",
        "        from theano import tensor as T\n",
        "        return T.switch(condition, squared_loss, linear_loss)\n",
        "    else:\n",
        "        raise RuntimeError('Unknown backend \"{}\".'.format(K.backend()))\n",
        "\n",
        "# Needed for keras huber_loss locate\n",
        "import keras.losses\n",
        "keras.losses.huber_loss = huber_loss\n"
      ]
    },
    {
      "cell_type": "code",
      "execution_count": null,
      "metadata": {
        "colab": {},
        "colab_type": "code",
        "id": "7XkKb6WaesLN"
      },
      "outputs": [],
      "source": [
        "class QNetwork():\n",
        "    \"\"\"\n",
        "    Q-Network Estimator\n",
        "    Represents the global model for the table\n",
        "    \"\"\"\n",
        "\n",
        "    def __init__(self,obs_size,num_actions,hidden_size = 100,\n",
        "                 hidden_layers = 1,learning_rate=.2):\n",
        "        \"\"\"\n",
        "        Initialize the network with the provided shape\n",
        "        \"\"\"\n",
        "        self.obs_size = obs_size\n",
        "        self.num_actions = num_actions\n",
        "        \n",
        "        # Network arquitecture\n",
        "        self.model = Sequential()\n",
        "        # Add imput layer\n",
        "        self.model.add(Dense(hidden_size, input_shape=(obs_size,),\n",
        "                             activation='relu'))\n",
        "        # Add hidden layers\n",
        "        for layers in range(hidden_layers):\n",
        "            self.model.add(Dense(hidden_size, activation='relu'))\n",
        "        # Add output layer    \n",
        "        self.model.add(Dense(num_actions))\n",
        "        \n",
        "        #optimizer = optimizers.SGD(learning_rate)\n",
        "        # optimizer = optimizers.Adam(alpha=learning_rate)\n",
        "        optimizer = optimizers.Adam(0.00025)\n",
        "        # optimizer = optimizers.RMSpropGraves(learning_rate, 0.95, self.momentum, 1e-2)\n",
        "        \n",
        "        # Compilation of the model with optimizer and loss\n",
        "        self.model.compile(loss=huber_loss,optimizer=optimizer)\n",
        "\n",
        "    def predict(self,state,batch_size=1):\n",
        "        \"\"\"\n",
        "        Predicts action values.\n",
        "        \"\"\"\n",
        "        return self.model.predict(state,batch_size=batch_size)\n",
        "\n",
        "    def update(self, states, q):\n",
        "        \"\"\"\n",
        "        Updates the estimator with the targets.\n",
        "\n",
        "        Args:\n",
        "          states: Target states\n",
        "          q: Estimated values\n",
        "\n",
        "        Returns:\n",
        "          The calculated loss on the batch.\n",
        "        \"\"\"\n",
        "        loss = self.model.train_on_batch(states, q)\n",
        "        return loss\n",
        "    \n",
        "    def copy_model(model):\n",
        "        \"\"\"Returns a copy of a keras model.\"\"\"\n",
        "        model.save('tmp_model')\n",
        "        return keras.models.load_model('tmp_model')\n"
      ]
    },
    {
      "cell_type": "code",
      "execution_count": null,
      "metadata": {
        "colab": {},
        "colab_type": "code",
        "id": "-u8-r77Jexf2"
      },
      "outputs": [],
      "source": [
        "#Policy interface\n",
        "class Policy:\n",
        "    def __init__(self, num_actions, estimator):\n",
        "        self.num_actions = num_actions\n",
        "        self.estimator = estimator\n",
        "    \n",
        "class Epsilon_greedy(Policy):\n",
        "    def __init__(self,estimator ,num_actions ,epsilon,min_epsilon,decay_rate, epoch_length):\n",
        "        Policy.__init__(self, num_actions, estimator)\n",
        "        self.name = \"Epsilon Greedy\"\n",
        "        \n",
        "        if (epsilon is None or epsilon < 0 or epsilon > 1):\n",
        "            print(\"EpsilonGreedy: Invalid value of epsilon\", flush = True)\n",
        "            sys.exit(0)\n",
        "        self.epsilon = epsilon\n",
        "        self.min_epsilon = min_epsilon\n",
        "        self.actions = list(range(num_actions))\n",
        "        self.step_counter = 0\n",
        "        self.epoch_length = epoch_length\n",
        "        self.decay_rate = decay_rate\n",
        "        \n",
        "        #if epsilon is up 0.1, it will be decayed over time\n",
        "        if self.epsilon > 0.01:\n",
        "            self.epsilon_decay = True\n",
        "        else:\n",
        "            self.epsilon_decay = False\n",
        "    \n",
        "    def get_actions(self,states):\n",
        "        # get next action\n",
        "        if np.random.rand() <= self.epsilon:\n",
        "            actions = np.random.randint(0, self.num_actions,states.shape[0])\n",
        "        else:\n",
        "            self.Q = self.estimator.predict(states,states.shape[0])\n",
        "            actions = []\n",
        "            for row in range(self.Q.shape[0]):\n",
        "                best_actions = np.argwhere(self.Q[row] == np.amax(self.Q[row]))\n",
        "                actions.append(best_actions[np.random.choice(len(best_actions))].item())\n",
        "            \n",
        "        self.step_counter += 1 \n",
        "        # decay epsilon after each epoch\n",
        "        if self.epsilon_decay:\n",
        "            if self.step_counter % self.epoch_length == 0:\n",
        "                self.epsilon = max(self.min_epsilon, self.epsilon * self.decay_rate**self.step_counter)\n",
        "            \n",
        "        return actions"
      ]
    },
    {
      "cell_type": "code",
      "execution_count": null,
      "metadata": {
        "colab": {},
        "colab_type": "code",
        "id": "2gBTfI8ke08v"
      },
      "outputs": [],
      "source": [
        "class ReplayMemory(object):\n",
        "    \"\"\"Implements basic replay memory\"\"\"\n",
        "\n",
        "    def __init__(self, observation_size, max_size):\n",
        "        self.observation_size = observation_size\n",
        "        self.num_observed = 0\n",
        "        self.max_size = max_size\n",
        "        self.samples = {\n",
        "                 'obs'      : np.zeros(self.max_size * 1 * self.observation_size,\n",
        "                                       dtype=np.float32).reshape(self.max_size,self.observation_size),\n",
        "                 'action'   : np.zeros(self.max_size * 1, dtype=np.int16).reshape(self.max_size, 1),\n",
        "                 'reward'   : np.zeros(self.max_size * 1).reshape(self.max_size, 1),\n",
        "                 'terminal' : np.zeros(self.max_size * 1, dtype=np.int16).reshape(self.max_size, 1),\n",
        "               }\n",
        "\n",
        "    def observe(self, state, action, reward, done):\n",
        "        index = self.num_observed % self.max_size\n",
        "        self.samples['obs'][index, :] = state\n",
        "        self.samples['action'][index, :] = action\n",
        "        self.samples['reward'][index, :] = reward\n",
        "        self.samples['terminal'][index, :] = done\n",
        "\n",
        "        self.num_observed += 1\n",
        "\n",
        "    def sample_minibatch(self, minibatch_size):\n",
        "        max_index = min(self.num_observed, self.max_size) - 1\n",
        "        sampled_indices = np.random.randint(max_index, size=minibatch_size)\n",
        "\n",
        "        s      = np.asarray(self.samples['obs'][sampled_indices, :], dtype=np.float32)\n",
        "        s_next = np.asarray(self.samples['obs'][sampled_indices+1, :], dtype=np.float32)\n",
        "\n",
        "        a      = self.samples['action'][sampled_indices].reshape(minibatch_size)\n",
        "        r      = self.samples['reward'][sampled_indices].reshape((minibatch_size, 1))\n",
        "        done   = self.samples['terminal'][sampled_indices].reshape((minibatch_size, 1))\n",
        "\n",
        "        return (s, a, r, s_next, done)"
      ]
    },
    {
      "cell_type": "code",
      "execution_count": null,
      "metadata": {
        "colab": {},
        "colab_type": "code",
        "id": "qXeEzOaIe32m"
      },
      "outputs": [],
      "source": [
        "'''\n",
        "Reinforcement learning Agent definition\n",
        "'''\n",
        "\n",
        "class Agent(object):  \n",
        "        \n",
        "    def __init__(self, actions,obs_size, policy=\"EpsilonGreedy\", **kwargs):\n",
        "        self.actions = actions\n",
        "        self.num_actions = len(actions)\n",
        "        self.obs_size = obs_size\n",
        "        \n",
        "        self.epsilon = kwargs.get('epsilon', 1)\n",
        "        self.min_epsilon = kwargs.get('min_epsilon', .1)\n",
        "        self.gamma = kwargs.get('gamma', .001)\n",
        "        self.minibatch_size = kwargs.get('minibatch_size', 2)\n",
        "        self.epoch_length = kwargs.get('epoch_length', 100)\n",
        "        self.decay_rate = kwargs.get('decay_rate',0.99)\n",
        "        self.ExpRep = kwargs.get('ExpRep',True)\n",
        "        if self.ExpRep:\n",
        "            self.memory = ReplayMemory(self.obs_size, kwargs.get('mem_size', 10))\n",
        "        \n",
        "        self.ddqn_time = 100\n",
        "        self.ddqn_update = self.ddqn_time\n",
        "\n",
        "        \n",
        "        self.model_network = QNetwork(self.obs_size, self.num_actions,\n",
        "                                      kwargs.get('hidden_size', 100),\n",
        "                                      kwargs.get('hidden_layers',1),\n",
        "                                      kwargs.get('learning_rate',.2))\n",
        "        self.target_model_network = QNetwork(self.obs_size, self.num_actions,\n",
        "                                      kwargs.get('hidden_size', 100),\n",
        "                                      kwargs.get('hidden_layers',1),\n",
        "                                      kwargs.get('learning_rate',.2))\n",
        "        self.target_model_network.model = QNetwork.copy_model(self.model_network.model)\n",
        "        \n",
        "        if policy == \"EpsilonGreedy\":\n",
        "            self.policy = Epsilon_greedy(self.model_network,len(actions),\n",
        "                                         self.epsilon,self.min_epsilon,\n",
        "                                         self.decay_rate,self.epoch_length)\n",
        "        \n",
        "        \n",
        "    def learn(self, states, actions,next_states, rewards, done):\n",
        "        if self.ExpRep:\n",
        "            self.memory.observe(states, actions, rewards, done)\n",
        "        else:\n",
        "            self.states = states\n",
        "            self.actions = actions\n",
        "            self.next_states = next_states\n",
        "            self.rewards = rewards\n",
        "            self.done = done        \n",
        "    def update_model(self):\n",
        "        if self.ExpRep:\n",
        "            (states, actions, rewards, next_states, done) = self.memory.sample_minibatch(self.minibatch_size)\n",
        "        else:\n",
        "            states = self.states\n",
        "            rewards = self.rewards\n",
        "            next_states = self.next_states\n",
        "            actions = self.actions\n",
        "            done = self.done\n",
        "        \n",
        "        next_actions = []\n",
        "        # Compute Q targets\n",
        "#        Q_prime = self.model_network.predict(next_states,self.minibatch_size)\n",
        "        Q_prime = self.target_model_network.predict(next_states,self.minibatch_size)\n",
        "        # TODO: fix performance in this loop\n",
        "        for row in range(Q_prime.shape[0]):\n",
        "            best_next_actions = np.argwhere(Q_prime[row] == np.amax(Q_prime[row]))\n",
        "            next_actions.append(best_next_actions[np.random.choice(len(best_next_actions))].item())\n",
        "        sx = np.arange(len(next_actions))\n",
        "        # Compute Q(s,a)\n",
        "        Q = self.model_network.predict(states,self.minibatch_size)\n",
        "        # Q-learning update\n",
        "        # target = reward + gamma * max_a'{Q(next_state,next_action))}\n",
        "        targets = rewards.reshape(Q[sx,actions].shape) + \\\n",
        "                  self.gamma * Q[sx,next_actions] * \\\n",
        "                  (1-done.reshape(Q[sx,actions].shape))   \n",
        "        Q[sx,actions] = targets  \n",
        "        \n",
        "        loss = self.model_network.model.train_on_batch(states,Q)#inputs,targets        \n",
        "        \n",
        "        # timer to ddqn update\n",
        "        self.ddqn_update -= 1\n",
        "        if self.ddqn_update == 0:\n",
        "            self.ddqn_update = self.ddqn_time\n",
        "#            self.target_model_network.model = QNetwork.copy_model(self.model_network.model)\n",
        "            self.target_model_network.model.set_weights(self.model_network.model.get_weights()) \n",
        "        \n",
        "        return loss    \n",
        "\n",
        "    def act(self, state,policy):\n",
        "        raise NotImplementedError"
      ]
    },
    {
      "cell_type": "code",
      "execution_count": null,
      "metadata": {
        "colab": {},
        "colab_type": "code",
        "id": "h-K4eEuDe-QE"
      },
      "outputs": [],
      "source": []
    },
    {
      "cell_type": "code",
      "execution_count": null,
      "metadata": {
        "colab": {},
        "colab_type": "code",
        "id": "yzoWE1L8fCKP"
      },
      "outputs": [],
      "source": [
        "class DefenderAgent(Agent):      \n",
        "    def __init__(self, actions, obs_size, policy=\"EpsilonGreedy\", **kwargs):\n",
        "        super().__init__(actions,obs_size, policy=\"EpsilonGreedy\", **kwargs)\n",
        "        \n",
        "    def act(self,states):\n",
        "        # Get actions under the policy\n",
        "        actions = self.policy.get_actions(states)\n",
        "        return actions\n",
        "    \n",
        "class AttackAgent(Agent):      \n",
        "    def __init__(self, actions, obs_size, policy=\"EpsilonGreedy\", **kwargs):\n",
        "        super().__init__(actions,obs_size, policy=\"EpsilonGreedy\", **kwargs)\n",
        "        \n",
        "    def act(self,states):\n",
        "        # Get actions under the policy\n",
        "        actions = self.policy.get_actions(states)\n",
        "        return actions"
      ]
    },
    {
      "cell_type": "code",
      "execution_count": null,
      "metadata": {
        "colab": {},
        "colab_type": "code",
        "id": "ojLCmmE3fCpw"
      },
      "outputs": [],
      "source": [
        "'''\n",
        "Reinforcement learning Enviroment Definition\n",
        "'''\n",
        "class RLenv(data_cls):\n",
        "    def __init__(self,train_test,**kwargs):\n",
        "        data_cls.__init__(self,train_test)\n",
        "        self.data_shape = data_cls.get_shape(self)\n",
        "        self.batch_size = kwargs.get('batch_size',1) # experience replay -> batch = 1\n",
        "        self.iterations_episode = kwargs.get('iterations_episode',10)\n",
        "        \n",
        "\n",
        "    '''\n",
        "    _update_state: function to update the current state\n",
        "    Returns:\n",
        "        None\n",
        "    Modifies the self parameters involved in the state:\n",
        "        self.state and self.labels\n",
        "    Also modifies the true labels to get learning knowledge\n",
        "    '''\n",
        "    def _update_state(self):        \n",
        "        self.states,self.labels = data_cls.get_batch(self)\n",
        "        \n",
        "        # Update statistics\n",
        "        self.true_labels += np.sum(self.labels).values\n",
        "\n",
        "    '''\n",
        "    Returns:\n",
        "        + Observation of the enviroment\n",
        "    '''\n",
        "    def reset(self):\n",
        "        # Statistics\n",
        "        self.def_true_labels = np.zeros(len(self.attack_types),dtype=int)\n",
        "        self.def_estimated_labels = np.zeros(len(self.attack_types),dtype=int)\n",
        "        self.att_true_labels = np.zeros(len(self.attack_names),dtype=int)\n",
        "        \n",
        "        self.state_numb = 0\n",
        "        \n",
        "        self.states,self.labels = data_cls.get_batch(self,self.batch_size)\n",
        "        \n",
        "        self.total_reward = 0\n",
        "        self.steps_in_episode = 0\n",
        "        return self.states.values \n",
        "   \n",
        "    '''\n",
        "    Returns:\n",
        "        State: Next state for the game\n",
        "        Reward: Actual reward\n",
        "        done: If the game ends (no end in this case)\n",
        "    \n",
        "    In the adversarial enviroment, it's only needed to return the actual reward\n",
        "    '''    \n",
        "    def act(self,defender_actions,attack_actions):\n",
        "        # Clear previous rewards        \n",
        "        self.att_reward = np.zeros(len(attack_actions))       \n",
        "        self.def_reward = np.zeros(len(defender_actions))\n",
        "        \n",
        "        \n",
        "        attack = [self.attack_types.index(self.attack_map[self.attack_names[att]]) for att in attack_actions]\n",
        "        \n",
        "        self.def_reward = (np.asarray(defender_actions)==np.asarray(attack))*1\n",
        "        self.att_reward = (np.asarray(defender_actions)!=np.asarray(attack))*1\n",
        "\n",
        "         \n",
        "       \n",
        "        self.def_estimated_labels += np.bincount(defender_actions,minlength=len(self.attack_types))\n",
        "        # TODO\n",
        "        # list comprehension\n",
        "        \n",
        "        for act in attack_actions:\n",
        "            self.def_true_labels[self.attack_types.index(self.attack_map[self.attack_names[act]])] += 1\n",
        "        \n",
        "\n",
        "        # Get new state and new true values \n",
        "        attack_actions = attacker_agent.act(self.states)\n",
        "        self.states = env.get_states(attack_actions)\n",
        "        \n",
        "        # Done allways false in this continuous task       \n",
        "        self.done = np.zeros(len(attack_actions),dtype=bool)\n",
        "            \n",
        "        return self.states, self.def_reward,self.att_reward, attack_actions, self.done\n",
        "    \n",
        "    '''\n",
        "    Provide the actual states for the selected attacker actions\n",
        "    Parameters:\n",
        "        self:\n",
        "        attacker_actions: optimum attacks selected by the attacker\n",
        "            it can be one of attack_names list and select random of this\n",
        "    Returns:\n",
        "        State: Actual state for the selected attacks\n",
        "    '''\n",
        "    def get_states(self,attacker_actions):\n",
        "        first = True\n",
        "        for attack in attacker_actions:\n",
        "            if first:\n",
        "                minibatch = (self.df[self.df[self.attack_names[attack]]==1].sample(1))\n",
        "                first = False\n",
        "            else:\n",
        "                minibatch=minibatch.append(self.df[self.df[self.attack_names[attack]]==1].sample(1))\n",
        "        \n",
        "        self.labels = minibatch[self.attack_names]\n",
        "        minibatch.drop(self.all_attack_names,axis=1,inplace=True)\n",
        "        self.states = minibatch\n",
        "        \n",
        "        return self.states\n",
        "\n"
      ]
    },
    {
      "cell_type": "code",
      "execution_count": 87,
      "metadata": {
        "colab": {
          "base_uri": "https://localhost:8080/",
          "height": 8568
        },
        "colab_type": "code",
        "id": "M0eU7ZSGfNEB",
        "outputId": "6eef8ba4-af39-484c-f57e-33de8882e00f"
      },
      "outputs": [
        {
          "name": "stdout",
          "output_type": "stream",
          "text": [
            "-------------------------------------------------------------------------------\n",
            "Total epoch: 100 | Iterations in epoch: 100| Minibatch from mem size: 10 | Total Samples: 10000|\n",
            "-------------------------------------------------------------------------------\n",
            "Dataset shape: (1795575, 50)\n",
            "-------------------------------------------------------------------------------\n",
            "Attacker parameters: Num_actions=4 | gamma=0.001 | epsilon=1 | ANN hidden size=100 | ANN hidden layers=1|\n",
            "-------------------------------------------------------------------------------\n",
            "Defense parameters: Num_actions=4 | gamma=0.001 | epsilon=1 | ANN hidden size=100 | ANN hidden layers=2|\n",
            "-------------------------------------------------------------------------------\n",
            "\n",
            "|Epoch 000/100| time: 15.46|\n",
            "|Def Loss 1.6468 | Def Reward in ep 022|\n",
            "|Att Loss 2.5482 | Att Reward in ep 078|\n",
            "|Def Estimated: [28 28 20 24]| Att Labels: [26 20 26 28]\n",
            "\n",
            "|Epoch 001/100| time: 13.09|\n",
            "|Def Loss 0.7339 | Def Reward in ep 034|\n",
            "|Att Loss 2.4797 | Att Reward in ep 066|\n",
            "|Def Estimated: [23 27 27 23]| Att Labels: [23 30 22 25]\n",
            "\n",
            "|Epoch 002/100| time: 14.70|\n",
            "|Def Loss 0.4155 | Def Reward in ep 039|\n",
            "|Att Loss 2.5638 | Att Reward in ep 061|\n",
            "|Def Estimated: [15 39 30 16]| Att Labels: [28 23 23 26]\n",
            "\n",
            "|Epoch 003/100| time: 15.30|\n",
            "|Def Loss 0.3763 | Def Reward in ep 061|\n",
            "|Att Loss 2.6920 | Att Reward in ep 039|\n",
            "|Def Estimated: [30 27 17 26]| Att Labels: [30 26 16 28]\n",
            "\n",
            "|Epoch 004/100| time: 13.70|\n",
            "|Def Loss 0.3335 | Def Reward in ep 073|\n",
            "|Att Loss 2.9373 | Att Reward in ep 027|\n",
            "|Def Estimated: [26 26 31 17]| Att Labels: [24 28 30 18]\n",
            "\n",
            "|Epoch 005/100| time: 11.47|\n",
            "|Def Loss 0.2533 | Def Reward in ep 080|\n",
            "|Att Loss 3.0046 | Att Reward in ep 020|\n",
            "|Def Estimated: [24 27 22 27]| Att Labels: [17 32 21 30]\n",
            "\n",
            "|Epoch 006/100| time: 12.62|\n",
            "|Def Loss 0.2496 | Def Reward in ep 088|\n",
            "|Att Loss 2.9508 | Att Reward in ep 012|\n",
            "|Def Estimated: [24 21 31 24]| Att Labels: [21 21 31 27]\n",
            "\n",
            "|Epoch 007/100| time: 13.98|\n",
            "|Def Loss 0.1779 | Def Reward in ep 088|\n",
            "|Att Loss 2.8032 | Att Reward in ep 012|\n",
            "|Def Estimated: [31 25 24 20]| Att Labels: [27 30 24 19]\n",
            "\n",
            "|Epoch 008/100| time: 14.14|\n",
            "|Def Loss 0.2983 | Def Reward in ep 088|\n",
            "|Att Loss 2.6932 | Att Reward in ep 012|\n",
            "|Def Estimated: [31 28 24 17]| Att Labels: [27 31 23 19]\n",
            "\n",
            "|Epoch 009/100| time: 12.51|\n",
            "|Def Loss 0.2829 | Def Reward in ep 097|\n",
            "|Att Loss 2.5322 | Att Reward in ep 003|\n",
            "|Def Estimated: [21 24 27 28]| Att Labels: [22 23 27 28]\n",
            "\n",
            "|Epoch 010/100| time: 13.91|\n",
            "|Def Loss 0.3565 | Def Reward in ep 093|\n",
            "|Att Loss 2.5249 | Att Reward in ep 007|\n",
            "|Def Estimated: [24 19 27 30]| Att Labels: [26 17 28 29]\n",
            "\n",
            "|Epoch 011/100| time: 13.32|\n",
            "|Def Loss 0.3022 | Def Reward in ep 094|\n",
            "|Att Loss 1.9639 | Att Reward in ep 006|\n",
            "|Def Estimated: [28 27 17 28]| Att Labels: [24 29 19 28]\n",
            "\n",
            "|Epoch 012/100| time: 12.67|\n",
            "|Def Loss 0.2833 | Def Reward in ep 095|\n",
            "|Att Loss 1.4044 | Att Reward in ep 005|\n",
            "|Def Estimated: [19 28 11 42]| Att Labels: [22 30 11 37]\n",
            "\n",
            "|Epoch 013/100| time: 12.29|\n",
            "|Def Loss 0.3074 | Def Reward in ep 090|\n",
            "|Att Loss 1.0277 | Att Reward in ep 010|\n",
            "|Def Estimated: [21 25 21 33]| Att Labels: [19 27 21 33]\n",
            "\n",
            "|Epoch 014/100| time: 13.89|\n",
            "|Def Loss 0.3793 | Def Reward in ep 093|\n",
            "|Att Loss 0.6867 | Att Reward in ep 007|\n",
            "|Def Estimated: [23 20 28 29]| Att Labels: [26 20 29 25]\n",
            "\n",
            "|Epoch 015/100| time: 12.68|\n",
            "|Def Loss 0.4719 | Def Reward in ep 091|\n",
            "|Att Loss 0.5906 | Att Reward in ep 009|\n",
            "|Def Estimated: [17 29 23 31]| Att Labels: [22 27 22 29]\n",
            "\n",
            "|Epoch 016/100| time: 13.73|\n",
            "|Def Loss 0.3951 | Def Reward in ep 096|\n",
            "|Att Loss 0.4539 | Att Reward in ep 004|\n",
            "|Def Estimated: [22 22 31 25]| Att Labels: [25 22 30 23]\n",
            "\n",
            "|Epoch 017/100| time: 13.48|\n",
            "|Def Loss 0.2876 | Def Reward in ep 097|\n",
            "|Att Loss 0.4026 | Att Reward in ep 003|\n",
            "|Def Estimated: [21 37 22 20]| Att Labels: [23 34 22 21]\n",
            "\n",
            "|Epoch 018/100| time: 14.79|\n",
            "|Def Loss 0.3821 | Def Reward in ep 092|\n",
            "|Att Loss 0.3405 | Att Reward in ep 008|\n",
            "|Def Estimated: [28 22 26 24]| Att Labels: [29 16 26 29]\n",
            "\n",
            "|Epoch 019/100| time: 14.49|\n",
            "|Def Loss 0.3545 | Def Reward in ep 095|\n",
            "|Att Loss 0.3186 | Att Reward in ep 005|\n",
            "|Def Estimated: [26 15 28 31]| Att Labels: [28 14 29 29]\n",
            "\n",
            "|Epoch 020/100| time: 14.60|\n",
            "|Def Loss 0.4008 | Def Reward in ep 093|\n",
            "|Att Loss 0.2765 | Att Reward in ep 007|\n",
            "|Def Estimated: [23 39 18 20]| Att Labels: [29 34 18 19]\n",
            "\n",
            "|Epoch 021/100| time: 13.39|\n",
            "|Def Loss 0.3425 | Def Reward in ep 095|\n",
            "|Att Loss 0.2465 | Att Reward in ep 005|\n",
            "|Def Estimated: [23 24 32 21]| Att Labels: [24 20 32 24]\n",
            "\n",
            "|Epoch 022/100| time: 11.44|\n",
            "|Def Loss 0.3348 | Def Reward in ep 097|\n",
            "|Att Loss 0.3295 | Att Reward in ep 003|\n",
            "|Def Estimated: [18 24 29 29]| Att Labels: [17 25 29 29]\n",
            "\n",
            "|Epoch 023/100| time: 14.39|\n",
            "|Def Loss 0.3265 | Def Reward in ep 096|\n",
            "|Att Loss 0.2653 | Att Reward in ep 004|\n",
            "|Def Estimated: [23 24 30 23]| Att Labels: [27 20 30 23]\n",
            "\n",
            "|Epoch 024/100| time: 11.80|\n",
            "|Def Loss 0.3771 | Def Reward in ep 097|\n",
            "|Att Loss 0.2545 | Att Reward in ep 003|\n",
            "|Def Estimated: [15 26 28 31]| Att Labels: [17 23 29 31]\n",
            "\n",
            "|Epoch 025/100| time: 14.71|\n",
            "|Def Loss 0.2562 | Def Reward in ep 092|\n",
            "|Att Loss 0.3432 | Att Reward in ep 008|\n",
            "|Def Estimated: [28 26 31 15]| Att Labels: [29 26 32 13]\n",
            "\n",
            "|Epoch 026/100| time: 14.44|\n",
            "|Def Loss 0.2887 | Def Reward in ep 094|\n",
            "|Att Loss 0.2871 | Att Reward in ep 006|\n",
            "|Def Estimated: [26 17 28 29]| Att Labels: [27 17 27 29]\n",
            "\n",
            "|Epoch 027/100| time: 13.94|\n",
            "|Def Loss 0.3363 | Def Reward in ep 096|\n",
            "|Att Loss 0.2511 | Att Reward in ep 004|\n",
            "|Def Estimated: [25 20 25 30]| Att Labels: [26 20 25 29]\n",
            "\n",
            "|Epoch 028/100| time: 13.87|\n",
            "|Def Loss 0.2971 | Def Reward in ep 091|\n",
            "|Att Loss 0.3418 | Att Reward in ep 009|\n",
            "|Def Estimated: [26 23 24 27]| Att Labels: [25 26 24 25]\n",
            "\n",
            "|Epoch 029/100| time: 14.52|\n",
            "|Def Loss 0.2525 | Def Reward in ep 098|\n",
            "|Att Loss 0.2174 | Att Reward in ep 002|\n",
            "|Def Estimated: [29 28 16 27]| Att Labels: [29 28 16 27]\n",
            "\n",
            "|Epoch 030/100| time: 13.87|\n",
            "|Def Loss 0.2281 | Def Reward in ep 093|\n",
            "|Att Loss 0.2550 | Att Reward in ep 007|\n",
            "|Def Estimated: [25 23 28 24]| Att Labels: [26 23 29 22]\n",
            "\n",
            "|Epoch 031/100| time: 15.01|\n",
            "|Def Loss 0.2663 | Def Reward in ep 098|\n",
            "|Att Loss 0.3385 | Att Reward in ep 002|\n",
            "|Def Estimated: [29 21 24 26]| Att Labels: [29 20 24 27]\n",
            "\n",
            "|Epoch 032/100| time: 13.58|\n",
            "|Def Loss 0.2880 | Def Reward in ep 094|\n",
            "|Att Loss 0.2485 | Att Reward in ep 006|\n",
            "|Def Estimated: [22 21 24 33]| Att Labels: [25 21 24 30]\n",
            "\n",
            "|Epoch 033/100| time: 14.08|\n",
            "|Def Loss 0.2579 | Def Reward in ep 098|\n",
            "|Att Loss 0.2032 | Att Reward in ep 002|\n",
            "|Def Estimated: [26 27 18 29]| Att Labels: [27 28 18 27]\n",
            "\n",
            "|Epoch 034/100| time: 16.07|\n",
            "|Def Loss 0.2340 | Def Reward in ep 094|\n",
            "|Att Loss 0.2141 | Att Reward in ep 006|\n",
            "|Def Estimated: [27 28 25 20]| Att Labels: [33 26 25 16]\n",
            "\n",
            "|Epoch 035/100| time: 13.98|\n",
            "|Def Loss 0.2981 | Def Reward in ep 098|\n",
            "|Att Loss 0.3499 | Att Reward in ep 002|\n",
            "|Def Estimated: [24 31 24 21]| Att Labels: [26 29 24 21]\n",
            "\n",
            "|Epoch 036/100| time: 15.50|\n",
            "|Def Loss 0.3520 | Def Reward in ep 096|\n",
            "|Att Loss 0.2671 | Att Reward in ep 004|\n",
            "|Def Estimated: [29 24 23 24]| Att Labels: [31 21 23 25]\n",
            "\n",
            "|Epoch 037/100| time: 14.19|\n",
            "|Def Loss 0.2368 | Def Reward in ep 098|\n",
            "|Att Loss 0.3280 | Att Reward in ep 002|\n",
            "|Def Estimated: [25 28 26 21]| Att Labels: [27 27 26 20]\n",
            "\n",
            "|Epoch 038/100| time: 14.39|\n",
            "|Def Loss 0.2148 | Def Reward in ep 096|\n",
            "|Att Loss 0.3215 | Att Reward in ep 004|\n",
            "|Def Estimated: [26 24 25 25]| Att Labels: [27 23 25 25]\n",
            "\n",
            "|Epoch 039/100| time: 13.48|\n",
            "|Def Loss 0.2428 | Def Reward in ep 096|\n",
            "|Att Loss 0.2720 | Att Reward in ep 004|\n",
            "|Def Estimated: [26 24 25 25]| Att Labels: [24 25 25 26]\n",
            "\n",
            "|Epoch 040/100| time: 13.46|\n",
            "|Def Loss 0.2943 | Def Reward in ep 095|\n",
            "|Att Loss 0.2374 | Att Reward in ep 005|\n",
            "|Def Estimated: [21 30 27 22]| Att Labels: [24 29 27 20]\n",
            "\n",
            "|Epoch 041/100| time: 15.02|\n",
            "|Def Loss 0.2156 | Def Reward in ep 091|\n",
            "|Att Loss 0.2301 | Att Reward in ep 009|\n",
            "|Def Estimated: [28 22 24 26]| Att Labels: [29 24 25 22]\n",
            "\n",
            "|Epoch 042/100| time: 12.05|\n",
            "|Def Loss 0.2945 | Def Reward in ep 098|\n",
            "|Att Loss 0.2477 | Att Reward in ep 002|\n",
            "|Def Estimated: [20 31 25 24]| Att Labels: [18 32 25 25]\n",
            "\n",
            "|Epoch 043/100| time: 14.89|\n",
            "|Def Loss 0.2328 | Def Reward in ep 098|\n",
            "|Att Loss 0.3270 | Att Reward in ep 002|\n",
            "|Def Estimated: [28 25 16 31]| Att Labels: [30 24 16 30]\n",
            "\n",
            "|Epoch 044/100| time: 12.22|\n",
            "|Def Loss 0.2491 | Def Reward in ep 096|\n",
            "|Att Loss 0.2626 | Att Reward in ep 004|\n",
            "|Def Estimated: [18 28 25 29]| Att Labels: [20 26 25 29]\n",
            "\n",
            "|Epoch 045/100| time: 14.91|\n",
            "|Def Loss 0.2366 | Def Reward in ep 097|\n",
            "|Att Loss 0.2325 | Att Reward in ep 003|\n",
            "|Def Estimated: [26 29 24 21]| Att Labels: [29 27 24 20]\n",
            "\n",
            "|Epoch 046/100| time: 14.23|\n",
            "|Def Loss 0.2007 | Def Reward in ep 096|\n",
            "|Att Loss 0.3026 | Att Reward in ep 004|\n",
            "|Def Estimated: [24 30 29 17]| Att Labels: [26 28 29 17]\n",
            "\n",
            "|Epoch 047/100| time: 13.37|\n",
            "|Def Loss 0.2411 | Def Reward in ep 097|\n",
            "|Att Loss 0.2841 | Att Reward in ep 003|\n",
            "|Def Estimated: [23 31 23 23]| Att Labels: [24 29 23 24]\n",
            "\n",
            "|Epoch 048/100| time: 12.89|\n",
            "|Def Loss 0.2334 | Def Reward in ep 099|\n",
            "|Att Loss 0.2435 | Att Reward in ep 001|\n",
            "|Def Estimated: [22 27 26 25]| Att Labels: [21 27 27 25]\n",
            "\n",
            "|Epoch 049/100| time: 13.72|\n",
            "|Def Loss 0.2020 | Def Reward in ep 100|\n",
            "|Att Loss 0.2643 | Att Reward in ep 000|\n",
            "|Def Estimated: [25 29 29 17]| Att Labels: [25 29 29 17]\n",
            "\n",
            "|Epoch 050/100| time: 13.63|\n",
            "|Def Loss 0.1770 | Def Reward in ep 099|\n",
            "|Att Loss 0.2620 | Att Reward in ep 001|\n",
            "|Def Estimated: [23 28 23 26]| Att Labels: [24 28 23 25]\n",
            "\n",
            "|Epoch 051/100| time: 15.19|\n",
            "|Def Loss 0.1364 | Def Reward in ep 097|\n",
            "|Att Loss 0.1698 | Att Reward in ep 003|\n",
            "|Def Estimated: [30 27 26 17]| Att Labels: [31 25 27 17]\n",
            "\n",
            "|Epoch 052/100| time: 12.94|\n",
            "|Def Loss 0.1180 | Def Reward in ep 096|\n",
            "|Att Loss 0.2156 | Att Reward in ep 004|\n",
            "|Def Estimated: [23 25 24 28]| Att Labels: [23 27 24 26]\n",
            "\n",
            "|Epoch 053/100| time: 13.05|\n",
            "|Def Loss 0.1337 | Def Reward in ep 097|\n",
            "|Att Loss 0.1922 | Att Reward in ep 003|\n",
            "|Def Estimated: [20 40 17 23]| Att Labels: [22 37 18 23]\n",
            "\n",
            "|Epoch 054/100| time: 13.69|\n",
            "|Def Loss 0.1944 | Def Reward in ep 098|\n",
            "|Att Loss 0.1438 | Att Reward in ep 002|\n",
            "|Def Estimated: [24 27 26 23]| Att Labels: [25 28 26 21]\n",
            "\n",
            "|Epoch 055/100| time: 12.54|\n",
            "|Def Loss 0.1522 | Def Reward in ep 099|\n",
            "|Att Loss 0.1357 | Att Reward in ep 001|\n",
            "|Def Estimated: [20 28 23 29]| Att Labels: [21 27 23 29]\n",
            "\n",
            "|Epoch 056/100| time: 15.00|\n",
            "|Def Loss 0.1248 | Def Reward in ep 099|\n",
            "|Att Loss 0.1470 | Att Reward in ep 001|\n",
            "|Def Estimated: [30 27 19 24]| Att Labels: [30 28 19 23]\n",
            "\n",
            "|Epoch 057/100| time: 14.14|\n",
            "|Def Loss 0.0987 | Def Reward in ep 098|\n",
            "|Att Loss 0.2231 | Att Reward in ep 002|\n",
            "|Def Estimated: [27 27 15 31]| Att Labels: [27 26 15 32]\n",
            "\n",
            "|Epoch 058/100| time: 14.48|\n",
            "|Def Loss 0.0888 | Def Reward in ep 095|\n",
            "|Att Loss 0.1862 | Att Reward in ep 005|\n",
            "|Def Estimated: [24 23 26 27]| Att Labels: [28 20 26 26]\n",
            "\n",
            "|Epoch 059/100| time: 12.76|\n",
            "|Def Loss 0.1370 | Def Reward in ep 100|\n",
            "|Att Loss 0.1344 | Att Reward in ep 000|\n",
            "|Def Estimated: [22 30 25 23]| Att Labels: [22 30 25 23]\n",
            "\n",
            "|Epoch 060/100| time: 14.09|\n",
            "|Def Loss 0.1379 | Def Reward in ep 097|\n",
            "|Att Loss 0.1164 | Att Reward in ep 003|\n",
            "|Def Estimated: [25 23 17 35]| Att Labels: [27 22 17 34]\n",
            "\n",
            "|Epoch 061/100| time: 15.18|\n",
            "|Def Loss 0.0754 | Def Reward in ep 100|\n",
            "|Att Loss 0.1164 | Att Reward in ep 000|\n",
            "|Def Estimated: [30 16 34 20]| Att Labels: [30 16 34 20]\n",
            "\n",
            "|Epoch 062/100| time: 10.98|\n",
            "|Def Loss 0.1158 | Def Reward in ep 097|\n",
            "|Att Loss 0.1754 | Att Reward in ep 003|\n",
            "|Def Estimated: [16 26 30 28]| Att Labels: [15 27 30 28]\n",
            "\n",
            "|Epoch 063/100| time: 14.58|\n",
            "|Def Loss 0.0991 | Def Reward in ep 096|\n",
            "|Att Loss 0.1914 | Att Reward in ep 004|\n",
            "|Def Estimated: [25 23 28 24]| Att Labels: [28 20 27 25]\n",
            "\n",
            "|Epoch 064/100| time: 14.40|\n",
            "|Def Loss 0.1339 | Def Reward in ep 100|\n",
            "|Att Loss 0.1390 | Att Reward in ep 000|\n",
            "|Def Estimated: [27 21 21 31]| Att Labels: [27 21 21 31]\n",
            "\n",
            "|Epoch 065/100| time: 12.23|\n",
            "|Def Loss 0.1302 | Def Reward in ep 098|\n",
            "|Att Loss 0.1470 | Att Reward in ep 002|\n",
            "|Def Estimated: [18 22 26 34]| Att Labels: [20 21 25 34]\n",
            "\n",
            "|Epoch 066/100| time: 14.80|\n",
            "|Def Loss 0.1019 | Def Reward in ep 097|\n",
            "|Att Loss 0.1572 | Att Reward in ep 003|\n",
            "|Def Estimated: [30 22 27 21]| Att Labels: [29 21 28 22]\n",
            "\n",
            "|Epoch 067/100| time: 15.03|\n",
            "|Def Loss 0.1473 | Def Reward in ep 097|\n",
            "|Att Loss 0.1676 | Att Reward in ep 003|\n",
            "|Def Estimated: [31 20 26 23]| Att Labels: [30 20 28 22]\n",
            "\n",
            "|Epoch 068/100| time: 14.11|\n",
            "|Def Loss 0.1473 | Def Reward in ep 099|\n",
            "|Att Loss 0.1558 | Att Reward in ep 001|\n",
            "|Def Estimated: [25 30 34 11]| Att Labels: [26 29 34 11]\n",
            "\n",
            "|Epoch 069/100| time: 16.24|\n",
            "|Def Loss 0.1047 | Def Reward in ep 096|\n",
            "|Att Loss 0.2329 | Att Reward in ep 004|\n",
            "|Def Estimated: [36 23 18 23]| Att Labels: [35 23 17 25]\n",
            "\n",
            "|Epoch 070/100| time: 13.94|\n",
            "|Def Loss 0.1451 | Def Reward in ep 099|\n",
            "|Att Loss 0.2242 | Att Reward in ep 001|\n",
            "|Def Estimated: [27 21 29 23]| Att Labels: [26 22 29 23]\n",
            "\n",
            "|Epoch 071/100| time: 13.36|\n",
            "|Def Loss 0.1825 | Def Reward in ep 098|\n",
            "|Att Loss 0.1619 | Att Reward in ep 002|\n",
            "|Def Estimated: [21 30 24 25]| Att Labels: [23 29 24 24]\n",
            "\n",
            "|Epoch 072/100| time: 13.12|\n",
            "|Def Loss 0.0490 | Def Reward in ep 098|\n",
            "|Att Loss 0.1974 | Att Reward in ep 002|\n",
            "|Def Estimated: [22 30 30 18]| Att Labels: [22 31 29 18]\n",
            "\n",
            "|Epoch 073/100| time: 14.62|\n",
            "|Def Loss 0.1602 | Def Reward in ep 098|\n",
            "|Att Loss 0.2021 | Att Reward in ep 002|\n",
            "|Def Estimated: [30 24 19 27]| Att Labels: [29 26 19 26]\n",
            "\n",
            "|Epoch 074/100| time: 12.87|\n",
            "|Def Loss 0.0819 | Def Reward in ep 099|\n",
            "|Att Loss 0.1875 | Att Reward in ep 001|\n",
            "|Def Estimated: [22 28 26 24]| Att Labels: [23 27 26 24]\n",
            "\n",
            "|Epoch 075/100| time: 13.10|\n",
            "|Def Loss 0.0647 | Def Reward in ep 099|\n",
            "|Att Loss 0.1494 | Att Reward in ep 001|\n",
            "|Def Estimated: [21 25 26 28]| Att Labels: [22 24 26 28]\n",
            "\n",
            "|Epoch 076/100| time: 14.69|\n",
            "|Def Loss 0.0547 | Def Reward in ep 100|\n",
            "|Att Loss 0.2344 | Att Reward in ep 000|\n",
            "|Def Estimated: [29 21 22 28]| Att Labels: [29 21 22 28]\n",
            "\n",
            "|Epoch 077/100| time: 15.95|\n",
            "|Def Loss 0.0839 | Def Reward in ep 098|\n",
            "|Att Loss 0.1654 | Att Reward in ep 002|\n",
            "|Def Estimated: [33 28 19 20]| Att Labels: [33 28 19 20]\n",
            "\n",
            "|Epoch 078/100| time: 16.10|\n",
            "|Def Loss 0.0752 | Def Reward in ep 098|\n",
            "|Att Loss 0.1463 | Att Reward in ep 002|\n",
            "|Def Estimated: [32 30 21 17]| Att Labels: [34 28 21 17]\n",
            "\n",
            "|Epoch 079/100| time: 12.32|\n",
            "|Def Loss 0.0384 | Def Reward in ep 098|\n",
            "|Att Loss 0.1448 | Att Reward in ep 002|\n",
            "|Def Estimated: [19 28 31 22]| Att Labels: [19 27 32 22]\n",
            "\n",
            "|Epoch 080/100| time: 13.20|\n",
            "|Def Loss 0.0806 | Def Reward in ep 100|\n",
            "|Att Loss 0.1777 | Att Reward in ep 000|\n",
            "|Def Estimated: [23 22 32 23]| Att Labels: [23 22 32 23]\n",
            "\n",
            "|Epoch 081/100| time: 12.27|\n",
            "|Def Loss 0.0509 | Def Reward in ep 097|\n",
            "|Att Loss 0.1675 | Att Reward in ep 003|\n",
            "|Def Estimated: [20 32 25 23]| Att Labels: [20 32 24 24]\n",
            "\n",
            "|Epoch 082/100| time: 15.24|\n",
            "|Def Loss 0.0480 | Def Reward in ep 098|\n",
            "|Att Loss 0.1212 | Att Reward in ep 002|\n",
            "|Def Estimated: [30 24 20 26]| Att Labels: [31 23 21 25]\n",
            "\n",
            "|Epoch 083/100| time: 12.51|\n",
            "|Def Loss 0.0928 | Def Reward in ep 099|\n",
            "|Att Loss 0.1060 | Att Reward in ep 001|\n",
            "|Def Estimated: [20 26 27 27]| Att Labels: [21 25 27 27]\n",
            "\n",
            "|Epoch 084/100| time: 12.89|\n",
            "|Def Loss 0.0836 | Def Reward in ep 100|\n",
            "|Att Loss 0.1764 | Att Reward in ep 000|\n",
            "|Def Estimated: [22 20 29 29]| Att Labels: [22 20 29 29]\n",
            "\n",
            "|Epoch 085/100| time: 13.89|\n",
            "|Def Loss 0.0637 | Def Reward in ep 100|\n",
            "|Att Loss 0.0720 | Att Reward in ep 000|\n",
            "|Def Estimated: [25 28 16 31]| Att Labels: [25 28 16 31]\n",
            "\n",
            "|Epoch 086/100| time: 14.44|\n",
            "|Def Loss 0.0753 | Def Reward in ep 098|\n",
            "|Att Loss 0.0268 | Att Reward in ep 002|\n",
            "|Def Estimated: [27 20 22 31]| Att Labels: [28 19 22 31]\n",
            "\n",
            "|Epoch 087/100| time: 13.36|\n",
            "|Def Loss 0.0208 | Def Reward in ep 100|\n",
            "|Att Loss 0.0909 | Att Reward in ep 000|\n",
            "|Def Estimated: [23 22 23 32]| Att Labels: [23 22 23 32]\n",
            "\n",
            "|Epoch 088/100| time: 13.60|\n",
            "|Def Loss 0.0408 | Def Reward in ep 098|\n",
            "|Att Loss 0.0911 | Att Reward in ep 002|\n",
            "|Def Estimated: [25 26 24 25]| Att Labels: [25 26 24 25]\n",
            "\n",
            "|Epoch 089/100| time: 13.58|\n",
            "|Def Loss 0.0379 | Def Reward in ep 097|\n",
            "|Att Loss 0.1452 | Att Reward in ep 003|\n",
            "|Def Estimated: [24 24 29 23]| Att Labels: [25 24 29 22]\n",
            "\n",
            "|Epoch 090/100| time: 14.00|\n",
            "|Def Loss 0.0379 | Def Reward in ep 099|\n",
            "|Att Loss 0.1005 | Att Reward in ep 001|\n",
            "|Def Estimated: [25 25 31 19]| Att Labels: [25 25 30 20]\n",
            "\n",
            "|Epoch 091/100| time: 11.75|\n",
            "|Def Loss 0.0690 | Def Reward in ep 099|\n",
            "|Att Loss 0.0894 | Att Reward in ep 001|\n",
            "|Def Estimated: [16 25 24 35]| Att Labels: [17 25 24 34]\n",
            "\n",
            "|Epoch 092/100| time: 13.38|\n",
            "|Def Loss 0.0697 | Def Reward in ep 096|\n",
            "|Att Loss 0.1760 | Att Reward in ep 004|\n",
            "|Def Estimated: [24 29 24 23]| Att Labels: [24 27 25 24]\n",
            "\n",
            "|Epoch 093/100| time: 17.52|\n",
            "|Def Loss 0.0690 | Def Reward in ep 097|\n",
            "|Att Loss 0.1664 | Att Reward in ep 003|\n",
            "|Def Estimated: [37 13 27 23]| Att Labels: [39 12 26 23]\n",
            "\n",
            "|Epoch 094/100| time: 13.09|\n",
            "|Def Loss 0.0505 | Def Reward in ep 096|\n",
            "|Att Loss 0.1073 | Att Reward in ep 004|\n",
            "|Def Estimated: [22 30 26 22]| Att Labels: [22 30 26 22]\n",
            "\n",
            "|Epoch 095/100| time: 14.52|\n",
            "|Def Loss 0.0853 | Def Reward in ep 097|\n",
            "|Att Loss 0.2667 | Att Reward in ep 003|\n",
            "|Def Estimated: [27 26 24 23]| Att Labels: [28 24 25 23]\n",
            "\n",
            "|Epoch 096/100| time: 14.00|\n",
            "|Def Loss 0.1015 | Def Reward in ep 100|\n",
            "|Att Loss 0.2213 | Att Reward in ep 000|\n",
            "|Def Estimated: [26 30 20 24]| Att Labels: [26 30 20 24]\n",
            "\n",
            "|Epoch 097/100| time: 15.30|\n",
            "|Def Loss 0.1391 | Def Reward in ep 097|\n",
            "|Att Loss 0.3120 | Att Reward in ep 003|\n",
            "|Def Estimated: [29 28 29 14]| Att Labels: [30 28 27 15]\n",
            "\n",
            "|Epoch 098/100| time: 14.18|\n",
            "|Def Loss 0.0703 | Def Reward in ep 098|\n",
            "|Att Loss 0.2772 | Att Reward in ep 002|\n",
            "|Def Estimated: [26 26 24 24]| Att Labels: [27 24 25 24]\n",
            "\n",
            "|Epoch 099/100| time: 11.64|\n",
            "|Def Loss 0.1266 | Def Reward in ep 098|\n",
            "|Att Loss 0.2063 | Att Reward in ep 002|\n",
            "|Def Estimated: [15 25 30 30]| Att Labels: [17 23 30 30]\n"
          ]
        }
      ],
      "source": [
        "if __name__ == \"__main__\":\n",
        "  \n",
        "   \n",
        "    \n",
        "    # Train batch\n",
        "    batch_size = 1\n",
        "    # batch of memory ExpRep\n",
        "    minibatch_size = 10\n",
        "    ExpRep = True\n",
        "    \n",
        "    iterations_episode = 100\n",
        "  \n",
        "    # Initialization of the enviroment\n",
        "    env = RLenv(\"train\",batch_size=batch_size,\n",
        "                iterations_episode=iterations_episode)    \n",
        "    # obs_size = size of the state\n",
        "    obs_size = env.data_shape[1]-len(env.all_attack_names)\n",
        "    \n",
        "    #num_episodes = int(env.data_shape[0]/(iterations_episode)/10)\n",
        "    num_episodes = 100\n",
        "    \n",
        "    '''\n",
        "    Definition for the defensor agent.\n",
        "    '''\n",
        "    defender_valid_actions = list(range(len(env.attack_types))) # only detect type of attack\n",
        "    defender_num_actions = len(defender_valid_actions)    \n",
        "    \n",
        "\t\n",
        "    def_epsilon = 1 # exploration\n",
        "    min_epsilon = 0.01 # min value for exploration\n",
        "    def_gamma = 0.001\n",
        "    def_decay_rate = 0.999\n",
        "    \n",
        "    def_hidden_size = 100\n",
        "    def_hidden_layers = 2\n",
        "    \n",
        "    def_learning_rate = .01\n",
        "    \n",
        "    defender_agent = DefenderAgent(defender_valid_actions,obs_size,\"EpsilonGreedy\",\n",
        "                          epoch_length = iterations_episode,\n",
        "                          epsilon = def_epsilon,\n",
        "                          min_epsilon = min_epsilon,\n",
        "                          decay_rate = def_decay_rate,\n",
        "                          gamma = def_gamma,\n",
        "                          hidden_size=def_hidden_size,\n",
        "                          hidden_layers=def_hidden_layers,\n",
        "                          minibatch_size = minibatch_size,\n",
        "                          mem_size = 1000,\n",
        "                          learning_rate=def_learning_rate,\n",
        "                          ExpRep=ExpRep)\n",
        "    #Pretrained defender\n",
        "    #defender_agent.model_network.model.load_weights(\"models/type_model.h5\")    \n",
        "    \n",
        "    '''\n",
        "    Definition for the attacker agent.\n",
        "    In this case the exploration is better to be greater\n",
        "    The correlation sould be greater too so gamma bigger\n",
        "    '''\n",
        "    attack_valid_actions = list(range(len(env.attack_names)))\n",
        "    attack_num_actions = len(attack_valid_actions)\n",
        "\t\n",
        "    att_epsilon = 1\n",
        "    min_epsilon = 0.99 # min value for exploration\n",
        "\n",
        "    att_gamma = 0.001\n",
        "    att_decay_rate = 0.99\n",
        "    \n",
        "    att_hidden_layers = 1\n",
        "    att_hidden_size = 100\n",
        "    \n",
        "    att_learning_rate = 0.2\n",
        "    \n",
        "    attacker_agent = AttackAgent(attack_valid_actions,obs_size,\"EpsilonGreedy\",\n",
        "                          epoch_length = iterations_episode,\n",
        "                          epsilon = att_epsilon,\n",
        "                          min_epsilon = min_epsilon,\n",
        "                          decay_rate = att_decay_rate,\n",
        "                          gamma = att_gamma,\n",
        "                          hidden_size=att_hidden_size,\n",
        "                          hidden_layers=att_hidden_layers,\n",
        "                          minibatch_size = minibatch_size,\n",
        "                          mem_size = 1000,\n",
        "                          learning_rate=att_learning_rate,\n",
        "                          ExpRep=ExpRep)\n",
        "    \n",
        "        \n",
        "    \n",
        "    # Statistics\n",
        "    att_reward_chain = []\n",
        "    def_reward_chain = []\n",
        "    att_loss_chain = []\n",
        "    def_loss_chain = []\n",
        "    def_total_reward_chain = []\n",
        "    att_total_reward_chain = []\n",
        "    \n",
        "\t# Print parameters\n",
        "    print(\"-------------------------------------------------------------------------------\")\n",
        "    print(\"Total epoch: {} | Iterations in epoch: {}\"\n",
        "          \"| Minibatch from mem size: {} | Total Samples: {}|\".format(num_episodes,\n",
        "                         iterations_episode,minibatch_size,\n",
        "                         num_episodes*iterations_episode))\n",
        "    print(\"-------------------------------------------------------------------------------\")\n",
        "    print(\"Dataset shape: {}\".format(env.data_shape))\n",
        "    print(\"-------------------------------------------------------------------------------\")\n",
        "    print(\"Attacker parameters: Num_actions={} | gamma={} |\" \n",
        "          \" epsilon={} | ANN hidden size={} | \"\n",
        "          \"ANN hidden layers={}|\".format(attack_num_actions,\n",
        "                             att_gamma,att_epsilon, att_hidden_size,\n",
        "                             att_hidden_layers))\n",
        "    print(\"-------------------------------------------------------------------------------\")\n",
        "    print(\"Defense parameters: Num_actions={} | gamma={} | \"\n",
        "          \"epsilon={} | ANN hidden size={} |\"\n",
        "          \" ANN hidden layers={}|\".format(defender_num_actions,\n",
        "                              def_gamma,def_epsilon,def_hidden_size,\n",
        "                              def_hidden_layers))\n",
        "    print(\"-------------------------------------------------------------------------------\")\n",
        "\n",
        "    # Main loop\n",
        "    attacks_by_epoch = []\n",
        "    attack_labels_list = []\n",
        "    for epoch in range(num_episodes):\n",
        "        start_time = time.time()\n",
        "        att_loss = 0.\n",
        "        def_loss = 0.\n",
        "        def_total_reward_by_episode = 0\n",
        "        att_total_reward_by_episode = 0\n",
        "        # Reset enviromet, actualize the data batch with random state/attacks\n",
        "        states = env.reset()\n",
        "        \n",
        "        # Get actions for actual states following the policy\n",
        "        attack_actions = attacker_agent.act(states)\n",
        "        states = env.get_states(attack_actions)    \n",
        "        \n",
        "        done = False\n",
        "       \n",
        "        attacks_list = []\n",
        "        # Iteration in one episode\n",
        "        for i_iteration in range(iterations_episode):\n",
        "            \n",
        "            attacks_list.append(attack_actions[0])\n",
        "            # apply actions, get rewards and new state\n",
        "            act_time = time.time()  \n",
        "            defender_actions = defender_agent.act(states)\n",
        "            #Enviroment actuation for this actions\n",
        "            next_states,def_reward, att_reward,next_attack_actions, done = env.act(defender_actions,attack_actions)\n",
        "            # If the epoch*batch_size*iterations_episode is largest than the df\n",
        "\n",
        "            \n",
        "            attacker_agent.learn(states,attack_actions,next_states,att_reward,done)\n",
        "            defender_agent.learn(states,defender_actions,next_states,def_reward,done)\n",
        "            \n",
        "            act_end_time = time.time()\n",
        "            \n",
        "            # Train network, update loss after at least minibatch_learns\n",
        "            if ExpRep and epoch*iterations_episode + i_iteration >= minibatch_size:\n",
        "                def_loss += defender_agent.update_model()\n",
        "                att_loss += attacker_agent.update_model()\n",
        "            elif not ExpRep:\n",
        "                def_loss += defender_agent.update_model()\n",
        "                att_loss += attacker_agent.update_model()\n",
        "                \n",
        "\n",
        "            update_end_time = time.time()\n",
        "\n",
        "            # Update the state\n",
        "            states = next_states\n",
        "            attack_actions = next_attack_actions\n",
        "            \n",
        "            \n",
        "            # Update statistics\n",
        "            def_total_reward_by_episode += np.sum(def_reward,dtype=np.int32)\n",
        "            att_total_reward_by_episode += np.sum(att_reward,dtype=np.int32)\n",
        "        \n",
        "        attacks_by_epoch.append(attacks_list)\n",
        "        # Update user view\n",
        "        def_reward_chain.append(def_total_reward_by_episode) \n",
        "        att_reward_chain.append(att_total_reward_by_episode) \n",
        "        def_loss_chain.append(def_loss)\n",
        "        att_loss_chain.append(att_loss) \n",
        "\n",
        "        \n",
        "        end_time = time.time()\n",
        "        print(\"\\r\\n|Epoch {:03d}/{:03d}| time: {:2.2f}|\\r\\n\"\n",
        "                \"|Def Loss {:4.4f} | Def Reward in ep {:03d}|\\r\\n\"\n",
        "                \"|Att Loss {:4.4f} | Att Reward in ep {:03d}|\"\n",
        "                .format(epoch, num_episodes,(end_time-start_time), \n",
        "                def_loss, def_total_reward_by_episode,\n",
        "                att_loss, att_total_reward_by_episode))\n",
        "        \n",
        "        \n",
        "        print(\"|Def Estimated: {}| Att Labels: {}\".format(env.def_estimated_labels,\n",
        "              env.def_true_labels))\n",
        "        attack_labels_list.append(env.def_true_labels)"
      ]
    },
    {
      "cell_type": "code",
      "execution_count": null,
      "metadata": {
        "colab": {},
        "colab_type": "code",
        "id": "w56BPg3zo0DC"
      },
      "outputs": [],
      "source": []
    },
    {
      "cell_type": "code",
      "execution_count": null,
      "metadata": {
        "colab": {},
        "colab_type": "code",
        "id": "W2QzwrilomWO"
      },
      "outputs": [],
      "source": []
    },
    {
      "cell_type": "code",
      "execution_count": 88,
      "metadata": {
        "colab": {
          "base_uri": "https://localhost:8080/",
          "height": 297
        },
        "colab_type": "code",
        "id": "OoBlm8f7fW_C",
        "outputId": "05fe02ca-5f9a-401d-b1e1-188da8905eb3"
      },
      "outputs": [
        {
          "data": {
            "image/png": "[encoded data removed]",
            "text/plain": [
              "<Figure size 432x288 with 2 Axes>"
            ]
          },
          "metadata": {
            "tags": []
          },
          "output_type": "display_data"
        }
      ],
      "source": [
        "if not os.path.exists('models'):\n",
        "    os.makedirs('models')\n",
        "# Save trained model weights and architecture, used in test\n",
        "defender_agent.model_network.model.save_weights(\"models/defender_agent_model.h5\", overwrite=True)\n",
        "with open(\"models/defender_agent_model.json\", \"w\") as outfile:\n",
        "    json.dump(defender_agent.model_network.model.to_json(), outfile)\n",
        "\n",
        "\n",
        "    \n",
        "if not os.path.exists('results'):\n",
        "    os.makedirs('results')    \n",
        "# Plot training results\n",
        "plt.figure(1)\n",
        "plt.subplot(211)\n",
        "plt.plot(np.arange(len(def_reward_chain)),def_reward_chain,label='Defense')\n",
        "plt.plot(np.arange(len(att_reward_chain)),att_reward_chain,label='Attack')\n",
        "plt.title('Total reward by episode')\n",
        "plt.xlabel('n Episode')\n",
        "plt.ylabel('Total reward')\n",
        "plt.legend(bbox_to_anchor=(0., 1.02, 1., .102), loc=3,\n",
        "       ncol=2, mode=\"expand\", borderaxespad=0.)\n",
        "\n",
        "plt.subplot(212)\n",
        "plt.plot(np.arange(len(def_loss_chain)),def_loss_chain,label='Defense')\n",
        "plt.plot(np.arange(len(att_loss_chain)),att_loss_chain,label='Attack')\n",
        "plt.title('Loss by episode')\n",
        "plt.xlabel('n Episode')\n",
        "plt.ylabel('loss')\n",
        "plt.legend(bbox_to_anchor=(0., 1.02, 1., .102), loc=3,\n",
        "       ncol=2, mode=\"expand\", borderaxespad=0.)\n",
        "plt.tight_layout()\n",
        "#plt.show()\n",
        "plt.savefig('results/train_adv.tif', format='tif', dpi=100)"
      ]
    },
    {
      "cell_type": "code",
      "execution_count": 89,
      "metadata": {
        "colab": {
          "base_uri": "https://localhost:8080/",
          "height": 1082
        },
        "colab_type": "code",
        "id": "HHpLDW9kfeQL",
        "outputId": "08d27245-aafb-4856-b9e7-9e73cb88ac0d"
      },
      "outputs": [
        {
          "data": {
            "image/png": "[encoded data removed]",
            "text/plain": [
              "<Figure size 864x360 with 3 Axes>"
            ]
          },
          "metadata": {
            "tags": []
          },
          "output_type": "display_data"
        },
        {
          "data": {
            "image/png": "[encoded data removed]",
            "text/plain": [
              "<Figure size 720x720 with 9 Axes>"
            ]
          },
          "metadata": {
            "tags": []
          },
          "output_type": "display_data"
        }
      ],
      "source": [
        "bins=np.arange(5) -0.5\n",
        "# Plot attacks distribution alongside\n",
        "plt.figure(2,figsize=[12,5])\n",
        "plt.title(\"Attacks distribution throughout  episodes\")\n",
        "for indx,e in enumerate([0,70,90]):\n",
        "    plt.subplot(1,3,indx+1)\n",
        "    plt.hist(attacks_by_epoch[e],bins=bins,width=0.9,align='left')\n",
        "    plt.xlabel(\"{} epoch\".format(e))\n",
        "    plt.xticks(bins, env.attack_names, rotation=90)\n",
        "\n",
        "\n",
        "plt.tight_layout()\n",
        "plt.savefig('results/Attacks_distribution.svg', format='svg', dpi=1000)\n",
        "\n",
        "\n",
        " # Plot attacks distribution alongside\n",
        "plt.figure(3,figsize=[10,10])\n",
        "plt.title(\"Attacks (mapped) distribution throughout  episodes\")\n",
        "for indx,e in enumerate([0,10,20,30,40,60,70,80,90]):\n",
        "    plt.subplot(3,3,indx+1)\n",
        "    plt.bar(range(4),attack_labels_list[e],tick_label =['normal', 'flooding', 'injection', 'impersonation'])\n",
        "    plt.xlabel(\"{} epoch\".format(e))\n",
        "plt.tight_layout()\n",
        "plt.savefig('results/Attacks_mapped_distribution.tif', format='tif', dpi=100)"
      ]
    },
    {
      "cell_type": "code",
      "execution_count": null,
      "metadata": {
        "colab": {},
        "colab_type": "code",
        "id": "GdEEgnejoANJ"
      },
      "outputs": [],
      "source": []
    },
    {
      "cell_type": "code",
      "execution_count": null,
      "metadata": {
        "colab": {},
        "colab_type": "code",
        "id": "MLhFt4v2oA5r"
      },
      "outputs": [],
      "source": []
    },
    {
      "cell_type": "markdown",
      "metadata": {
        "colab_type": "text",
        "id": "-3z12k-CoBqI"
      },
      "source": [
        "# TEST"
      ]
    },
    {
      "cell_type": "code",
      "execution_count": null,
      "metadata": {
        "colab": {},
        "colab_type": "code",
        "id": "k2EScB5ZoA8t"
      },
      "outputs": [],
      "source": [
        "from keras.models import model_from_json\n",
        "\n",
        "import itertools\n",
        "from sklearn.metrics import f1_score\n",
        "from sklearn.metrics import accuracy_score, precision_score, recall_score\n",
        "from sklearn.metrics import  confusion_matrix"
      ]
    },
    {
      "cell_type": "code",
      "execution_count": null,
      "metadata": {
        "colab": {},
        "colab_type": "code",
        "id": "i1PgEGysoOlU"
      },
      "outputs": [],
      "source": [
        "\n",
        "def plot_confusion_matrix(cm, classes,\n",
        "                          normalize=False,\n",
        "                          title='Confusion matrix',\n",
        "                          cmap=plt.cm.Blues):\n",
        "    \"\"\"\n",
        "    This function prints and plots the confusion matrix.\n",
        "    Normalization can be applied by setting `normalize=True`.\n",
        "    \"\"\"\n",
        "    if normalize:\n",
        "        cm = cm.astype('float') / cm.sum(axis=1)[:, np.newaxis]\n",
        "        print(\"Normalized confusion matrix\")\n",
        "    else:\n",
        "        print('Confusion matrix, without normalization')\n",
        "\n",
        "    print(cm)\n",
        "\n",
        "    plt.imshow(cm, interpolation='nearest', cmap=cmap)\n",
        "    plt.title(title)\n",
        "    plt.grid(None)\n",
        "    plt.colorbar()\n",
        "    tick_marks = np.arange(len(classes))\n",
        "    plt.xticks(tick_marks, classes, rotation=45)\n",
        "    plt.yticks(tick_marks, classes)\n",
        "\n",
        "    fmt = '.2f' if normalize else 'd'\n",
        "    thresh = cm.max() / 2.\n",
        "    for i, j in itertools.product(range(cm.shape[0]), range(cm.shape[1])):\n",
        "        plt.text(j, i, format(cm[i, j], fmt),\n",
        "                 horizontalalignment=\"center\",\n",
        "                 color=\"white\" if cm[i, j] > thresh else \"black\")\n",
        "\n",
        "    plt.tight_layout()\n",
        "    plt.ylabel('True label')\n",
        "    plt.xlabel('Predicted label')\n"
      ]
    },
    {
      "cell_type": "code",
      "execution_count": null,
      "metadata": {
        "colab": {},
        "colab_type": "code",
        "id": "5cSeFJb3oPVT"
      },
      "outputs": [],
      "source": [
        "\n",
        "with open(\"models/defender_agent_model.json\", \"r\") as jfile:\n",
        "    model = model_from_json(json.load(jfile))\n",
        "model.load_weights(\"models/defender_agent_model.h5\")\n",
        "\n",
        "model.compile(loss=huber_loss,optimizer=\"sgd\")\n",
        "\n",
        "\n",
        "# Define environment, game, make sure the batch_size is the same in train\n",
        "env_test = RLenv('test')\n",
        "\n",
        "\n",
        "total_reward = 0    \n",
        "\n",
        "\n",
        "true_labels = np.zeros(len(env_test.attack_types),dtype=int)\n",
        "estimated_labels = np.zeros(len(env_test.attack_types),dtype=int)\n",
        "estimated_correct_labels = np.zeros(len(env_test.attack_types),dtype=int)\n",
        "\n",
        "#states , labels = env.get_sequential_batch(test_path,batch_size = env.batch_size)\n",
        "states , labels = env_test.get_full()\n",
        "\n",
        "\n",
        "start_time=time.time()\n",
        "q = model.predict(states)\n",
        "actions = np.argmax(q,axis=1)        "
      ]
    },
    {
      "cell_type": "code",
      "execution_count": 93,
      "metadata": {
        "colab": {
          "base_uri": "https://localhost:8080/",
          "height": 134
        },
        "colab_type": "code",
        "id": "8hFU1HF1oYFG",
        "outputId": "0645ee32-8e18-4308-9076-277b653ffde1"
      },
      "outputs": [
        {
          "name": "stdout",
          "output_type": "stream",
          "text": [
            "\r\n",
            "Total reward: 541131 | Number of samples: 575643 | Accuracy = 94.00%\n",
            "              Estimated Correct   Total F1_score\n",
            "normal           524979  510626  530785  96.7311\n",
            "flooding           5296    5006    8097  74.7555\n",
            "injection         17825   16681   16682  96.6818\n",
            "impersonation     27543    8818   20079  37.0333\n"
          ]
        }
      ],
      "source": [
        "maped=[]\n",
        "for indx,label in labels.iterrows():\n",
        "    maped.append(env_test.attack_types.index(env_test.attack_map[label.idxmax()]))\n",
        "\n",
        "labels,counts = np.unique(maped,return_counts=True)\n",
        "true_labels[labels] += counts\n",
        "\n",
        "\n",
        "\n",
        "for indx,a in enumerate(actions):\n",
        "    estimated_labels[a] +=1              \n",
        "    if a == maped[indx]:\n",
        "        total_reward += 1\n",
        "        estimated_correct_labels[a] += 1\n",
        "\n",
        "\n",
        "action_dummies = pd.get_dummies(actions)\n",
        "posible_actions = np.arange(len(env_test.attack_types))\n",
        "for non_existing_action in posible_actions:\n",
        "    if non_existing_action not in action_dummies.columns:\n",
        "        action_dummies[non_existing_action] = np.uint8(0)\n",
        "labels_dummies = pd.get_dummies(maped)\n",
        "\n",
        "normal_f1_score = f1_score(labels_dummies[0].values,action_dummies[0].values)\n",
        "flooding_f1_score = f1_score(labels_dummies[1].values,action_dummies[1].values)\n",
        "injection_f1_score = f1_score(labels_dummies[2].values,action_dummies[2].values)\n",
        "impersonation_f1_score = f1_score(labels_dummies[3].values,action_dummies[3].values)\n",
        "    \n",
        "\n",
        "Accuracy = [normal_f1_score,flooding_f1_score,injection_f1_score,impersonation_f1_score]\n",
        "Mismatch = estimated_labels - true_labels\n",
        "\n",
        "acc = float(100*total_reward/len(states))\n",
        "print('\\r\\nTotal reward: {} | Number of samples: {} | Accuracy = {:.2f}%'.format(total_reward,\n",
        "      len(states),acc))\n",
        "outputs_df = pd.DataFrame(index = env_test.attack_types,columns = [\"Estimated\",\"Correct\",\"Total\",\"F1_score\"])\n",
        "for indx,att in enumerate(env_test.attack_types):\n",
        "   outputs_df.iloc[indx].Estimated = estimated_labels[indx]\n",
        "   outputs_df.iloc[indx].Correct = estimated_correct_labels[indx]\n",
        "   outputs_df.iloc[indx].Total = true_labels[indx]\n",
        "   outputs_df.iloc[indx].F1_score = Accuracy[indx]*100\n",
        "   outputs_df.iloc[indx].Mismatch = abs(Mismatch[indx])\n",
        "    \n",
        "    \n",
        "print(outputs_df)"
      ]
    },
    {
      "cell_type": "code",
      "execution_count": 94,
      "metadata": {
        "colab": {
          "base_uri": "https://localhost:8080/",
          "height": 441
        },
        "colab_type": "code",
        "id": "HBxETWRcocbS",
        "outputId": "e73fa46e-23ed-4ea8-ae29-99ce8b0fd15a"
      },
      "outputs": [
        {
          "data": {
            "image/png": "[encoded data removed]",
            "text/plain": [
              "<Figure size 720x432 with 1 Axes>"
            ]
          },
          "metadata": {
            "tags": []
          },
          "output_type": "display_data"
        }
      ],
      "source": [
        "fig, ax = plt.subplots()\n",
        "fig.set_size_inches(10, 6)\n",
        "width = 0.35\n",
        "pos = np.arange(len(true_labels))\n",
        "p1 = plt.bar(pos, estimated_correct_labels,width,color='g')\n",
        "p1 = plt.bar(pos+width,\n",
        "             (np.abs(estimated_correct_labels-true_labels)),width,\n",
        "             color='r')\n",
        "p2 = plt.bar(pos+width,np.abs(estimated_labels-estimated_correct_labels),width,\n",
        "             bottom=(np.abs(estimated_correct_labels-true_labels)),\n",
        "             color='b')\n",
        "\n",
        "ax.yaxis.set_tick_params(labelsize=15)\n",
        "ax.set_xticks(pos+width/2)\n",
        "ax.set_xticklabels(env.attack_types,rotation='vertical',fontsize = 'xx-large')\n",
        "\n",
        "#ax.set_yscale('log')\n",
        "\n",
        "#ax.set_ylim([0, 100])\n",
        "#ax.set_title('Test set scores',fontsize = 'xx-large')\n",
        "#ax.set_title('Test set scores, Acc = {:.2f}'.format(acc))\n",
        "plt.legend(('Correct estimated','False negative','False positive'),fontsize = 'x-large')\n",
        "plt.tight_layout()\n",
        "#plt.show()\n",
        "plt.savefig('results/test_adv_imp.tif', format='tif', dpi=100)\n"
      ]
    },
    {
      "cell_type": "code",
      "execution_count": 95,
      "metadata": {
        "colab": {
          "base_uri": "https://localhost:8080/",
          "height": 34
        },
        "colab_type": "code",
        "id": "FBVTk9aujCuI",
        "outputId": "b6da78e5-7d93-4751-9edf-6d10d579dc33"
      },
      "outputs": [
        {
          "data": {
            "text/plain": [
              "array([510626,   5006,  16681,   8818])"
            ]
          },
          "execution_count": 95,
          "metadata": {
            "tags": []
          },
          "output_type": "execute_result"
        }
      ],
      "source": [
        "estimated_correct_labels"
      ]
    },
    {
      "cell_type": "code",
      "execution_count": 96,
      "metadata": {
        "colab": {
          "base_uri": "https://localhost:8080/",
          "height": 34
        },
        "colab_type": "code",
        "id": "UphioXJOjSpn",
        "outputId": "796c832c-a5b1-4738-8f87-2911799c0e30"
      },
      "outputs": [
        {
          "data": {
            "text/plain": [
              "array([524979,   5296,  17825,  27543])"
            ]
          },
          "execution_count": 96,
          "metadata": {
            "tags": []
          },
          "output_type": "execute_result"
        }
      ],
      "source": [
        "estimated_labels"
      ]
    },
    {
      "cell_type": "code",
      "execution_count": 97,
      "metadata": {
        "colab": {
          "base_uri": "https://localhost:8080/",
          "height": 34
        },
        "colab_type": "code",
        "id": "_XrjAwLzjbWf",
        "outputId": "fd606ff9-7ca8-48c3-8c97-0a42273bca68"
      },
      "outputs": [
        {
          "data": {
            "text/plain": [
              "array([530785,   8097,  16682,  20079])"
            ]
          },
          "execution_count": 97,
          "metadata": {
            "tags": []
          },
          "output_type": "execute_result"
        }
      ],
      "source": [
        "true_labels"
      ]
    },
    {
      "cell_type": "code",
      "execution_count": 98,
      "metadata": {
        "colab": {
          "base_uri": "https://localhost:8080/",
          "height": 34
        },
        "colab_type": "code",
        "id": "Jw9xTn9EkMku",
        "outputId": "45e07295-9d38-4b52-ef94-b6aeafe6c62d"
      },
      "outputs": [
        {
          "data": {
            "text/plain": [
              "array([20159,  3091,     1, 11261])"
            ]
          },
          "execution_count": 98,
          "metadata": {
            "tags": []
          },
          "output_type": "execute_result"
        }
      ],
      "source": [
        "np.abs(estimated_correct_labels-true_labels) # false negative"
      ]
    },
    {
      "cell_type": "code",
      "execution_count": 99,
      "metadata": {
        "colab": {
          "base_uri": "https://localhost:8080/",
          "height": 34
        },
        "colab_type": "code",
        "id": "OSneeTpxkYiU",
        "outputId": "cc6ab49b-aab8-47d7-d0c7-7345bd999534"
      },
      "outputs": [
        {
          "data": {
            "text/plain": [
              "array([14353,   290,  1144, 18725])"
            ]
          },
          "execution_count": 99,
          "metadata": {
            "tags": []
          },
          "output_type": "execute_result"
        }
      ],
      "source": [
        "np.abs(estimated_labels-estimated_correct_labels)  #false positive"
      ]
    },
    {
      "cell_type": "code",
      "execution_count": 100,
      "metadata": {
        "colab": {
          "base_uri": "https://localhost:8080/",
          "height": 482
        },
        "colab_type": "code",
        "id": "O0Z8IHZhonlP",
        "outputId": "6a9563e9-51d1-4a3b-dc66-a1bad26c1c94"
      },
      "outputs": [
        {
          "name": "stdout",
          "output_type": "stream",
          "text": [
            "Performance measures on Test data\n",
            "Accuracy =  0.9400\n",
            "F1 =  0.9434\n",
            "Precision_score =  0.9484\n",
            "recall_score =  0.9400\n",
            "Normalized confusion matrix\n",
            "[[9.62e-01 5.46e-04 2.16e-03 3.53e-02]\n",
            " [3.82e-01 6.18e-01 0.00e+00 0.00e+00]\n",
            " [5.99e-05 0.00e+00 1.00e+00 0.00e+00]\n",
            " [5.61e-01 0.00e+00 0.00e+00 4.39e-01]]\n"
          ]
        },
        {
          "data": {
            "text/plain": [
              "<Figure size 432x288 with 0 Axes>"
            ]
          },
          "metadata": {
            "tags": []
          },
          "output_type": "display_data"
        },
        {
          "data": {
            "image/png": "[encoded data removed]",
            "text/plain": [
              "<Figure size 432x288 with 2 Axes>"
            ]
          },
          "metadata": {
            "tags": []
          },
          "output_type": "display_data"
        }
      ],
      "source": [
        "aggregated_data_test = np.array(maped)\n",
        "\n",
        "print('Performance measures on Test data')\n",
        "print('Accuracy =  {:.4f}'.format(accuracy_score( aggregated_data_test,actions)))\n",
        "print('F1 =  {:.4f}'.format(f1_score(aggregated_data_test,actions, average='weighted')))\n",
        "print('Precision_score =  {:.4f}'.format(precision_score(aggregated_data_test,actions, average='weighted')))\n",
        "print('recall_score =  {:.4f}'.format(recall_score(aggregated_data_test,actions, average='weighted')))\n",
        "\n",
        "cnf_matrix = confusion_matrix(aggregated_data_test,actions)\n",
        "np.set_printoptions(precision=2)\n",
        "plt.figure()\n",
        "plt.figure()\n",
        "plot_confusion_matrix(cnf_matrix, classes=env.attack_types, normalize=True,\n",
        "                      title='AE-RL')\n",
        "plt.tight_layout()\n",
        "plt.savefig('results/confusion_matrix_adversarial.tif', format='tif', dpi=100)"
      ]
    },
    {
      "cell_type": "code",
      "execution_count": 101,
      "metadata": {
        "colab": {
          "base_uri": "https://localhost:8080/",
          "height": 202
        },
        "colab_type": "code",
        "id": "hVn1_CP5AQtN",
        "outputId": "db29d8bf-06c0-4bc4-f849-6f5409fb1b7f"
      },
      "outputs": [
        {
          "name": "stdout",
          "output_type": "stream",
          "text": [
            "               precision    recall  f1-score   support\n",
            "\n",
            "       normal       0.97      0.96      0.97    530785\n",
            "     flooding       0.95      0.62      0.75      8097\n",
            "    injection       0.94      1.00      0.97     16682\n",
            "impersonation       0.32      0.44      0.37     20079\n",
            "\n",
            "    micro avg       0.94      0.94      0.94    575643\n",
            "    macro avg       0.79      0.75      0.76    575643\n",
            " weighted avg       0.95      0.94      0.94    575643\n",
            "\n"
          ]
        }
      ],
      "source": [
        "print(classification_report(aggregated_data_test,actions,target_names=['normal', 'flooding', 'injection', 'impersonation']))"
      ]
    },
    {
      "cell_type": "code",
      "execution_count": 102,
      "metadata": {
        "colab": {
          "base_uri": "https://localhost:8080/",
          "height": 134
        },
        "colab_type": "code",
        "id": "60L3BNptopsZ",
        "outputId": "3208c89a-c9c3-44da-844b-c4e4a2244334"
      },
      "outputs": [
        {
          "name": "stdout",
          "output_type": "stream",
          "text": [
            "\r\n",
            "One vs All metrics: \r\n",
            "            name       acc        f1       pre       rec\n",
            "0         normal  0.940046  0.967311   0.97266   0.96202\n",
            "1  impersonation  0.947909  0.370333  0.320154  0.439165\n",
            "2      injection  0.998011  0.966818   0.93582   0.99994\n",
            "3       flooding  0.994127  0.747555  0.945242  0.618254\n"
          ]
        }
      ],
      "source": [
        "#['normal', 'flooding', 'injection', 'impersonation']\n",
        "mapa = {0:'normal', 1:'flooding', 2:'injection',3:'impersonation'}\n",
        "yt_app = pd.Series(maped).map(mapa)\n",
        "\n",
        "perf_per_class = pd.DataFrame(index=range(len(yt_app.unique())),columns=['name', 'acc','f1', 'pre','rec'])\n",
        "for i,x in enumerate(pd.Series(yt_app).value_counts().index):\n",
        "    y_test_hat_check = pd.Series(actions).map(mapa).copy()\n",
        "    y_test_hat_check[y_test_hat_check != x] = 'OTHER'\n",
        "    yt_app = pd.Series(maped).map(mapa).copy()\n",
        "    yt_app[yt_app != x] = 'OTHER'\n",
        "    ac=accuracy_score( yt_app,y_test_hat_check)\n",
        "    f1=f1_score( yt_app,y_test_hat_check,pos_label=x, average='binary')\n",
        "    pr=precision_score( yt_app,y_test_hat_check,pos_label=x, average='binary')\n",
        "    re=recall_score( yt_app,y_test_hat_check,pos_label=x, average='binary')\n",
        "    perf_per_class.iloc[i]=[x,ac,f1,pr,re]\n",
        "    \n",
        "print(\"\\r\\nOne vs All metrics: \\r\\n{}\".format(perf_per_class))\n"
      ]
    },
    {
      "cell_type": "markdown",
      "metadata": {
        "colab_type": "text",
        "id": "P89yhncYZ2b3"
      },
      "source": [
        "# Keras MLP"
      ]
    },
    {
      "cell_type": "code",
      "execution_count": null,
      "metadata": {
        "colab": {},
        "colab_type": "code",
        "id": "8_q43FU0hC44"
      },
      "outputs": [],
      "source": [
        "import keras\n",
        "from keras.models import Sequential"
      ]
    },
    {
      "cell_type": "code",
      "execution_count": null,
      "metadata": {
        "colab": {},
        "colab_type": "code",
        "id": "9mGfiCMaAfqw"
      },
      "outputs": [],
      "source": [
        "y = train['labels']\n",
        "x = train.drop(['labels'],axis=1)"
      ]
    },
    {
      "cell_type": "code",
      "execution_count": 45,
      "metadata": {
        "colab": {
          "base_uri": "https://localhost:8080/",
          "height": 50
        },
        "colab_type": "code",
        "id": "eZKJF_HSBsDx",
        "outputId": "960b39cf-8450-4ad6-83f0-7730907a192a"
      },
      "outputs": [
        {
          "name": "stdout",
          "output_type": "stream",
          "text": [
            "(1795575, 46)\n",
            "(1795575,)\n"
          ]
        }
      ],
      "source": [
        "print(x.shape)\n",
        "print(y.shape)"
      ]
    },
    {
      "cell_type": "code",
      "execution_count": null,
      "metadata": {
        "colab": {},
        "colab_type": "code",
        "id": "jwUtLgxrB-5i"
      },
      "outputs": [],
      "source": [
        "y = pd.get_dummies(y)"
      ]
    },
    {
      "cell_type": "code",
      "execution_count": 47,
      "metadata": {
        "colab": {
          "base_uri": "https://localhost:8080/",
          "height": 50
        },
        "colab_type": "code",
        "id": "03YTiDfWA85o",
        "outputId": "d9f60b0b-0a04-434b-9a88-4f0479f79299"
      },
      "outputs": [
        {
          "name": "stdout",
          "output_type": "stream",
          "text": [
            "(1795575, 46)\n",
            "(1795575, 4)\n"
          ]
        }
      ],
      "source": [
        "print(x.shape)\n",
        "print(y.shape)"
      ]
    },
    {
      "cell_type": "code",
      "execution_count": null,
      "metadata": {
        "colab": {},
        "colab_type": "code",
        "id": "pQ-5Xw3NFCcy"
      },
      "outputs": [],
      "source": [
        "keras.backend.clear_session()"
      ]
    },
    {
      "cell_type": "code",
      "execution_count": 49,
      "metadata": {
        "colab": {
          "base_uri": "https://localhost:8080/",
          "height": 235
        },
        "colab_type": "code",
        "id": "AYAkgsoMCN9K",
        "outputId": "a4650719-29cf-4434-d60f-b7a2738c00af"
      },
      "outputs": [
        {
          "name": "stdout",
          "output_type": "stream",
          "text": [
            "_________________________________________________________________\n",
            "Layer (type)                 Output Shape              Param #   \n",
            "=================================================================\n",
            "dense_1 (Dense)              (None, 100)               4700      \n",
            "_________________________________________________________________\n",
            "dense_2 (Dense)              (None, 100)               10100     \n",
            "_________________________________________________________________\n",
            "dense_3 (Dense)              (None, 4)                 404       \n",
            "=================================================================\n",
            "Total params: 15,204\n",
            "Trainable params: 15,204\n",
            "Non-trainable params: 0\n",
            "_________________________________________________________________\n"
          ]
        }
      ],
      "source": [
        "model = Sequential()\n",
        "model.add(Dense(100,input_shape=(x.shape[1],) ))\n",
        "model.add(Dense(100))\n",
        "model.add(Dense(y.shape[1]))\n",
        "model.summary()"
      ]
    },
    {
      "cell_type": "code",
      "execution_count": null,
      "metadata": {
        "colab": {},
        "colab_type": "code",
        "id": "jwAivdIPCKTr"
      },
      "outputs": [],
      "source": [
        "model.compile(optimizer='adam',loss='mse',metrics=['acc'])"
      ]
    },
    {
      "cell_type": "code",
      "execution_count": 51,
      "metadata": {
        "colab": {
          "base_uri": "https://localhost:8080/",
          "height": 101
        },
        "colab_type": "code",
        "id": "AGmdrxd_CKWO",
        "outputId": "ac888f1e-56ab-48d5-a7dd-f9c44f4ccbd0"
      },
      "outputs": [
        {
          "name": "stdout",
          "output_type": "stream",
          "text": [
            "Epoch 1/2\n",
            "1795575/1795575 [==============================] - 217s 121us/step - loss: 0.0172 - acc: 0.9701\n",
            "Epoch 2/2\n",
            "1795575/1795575 [==============================] - 217s 121us/step - loss: 0.0169 - acc: 0.9701\n"
          ]
        },
        {
          "data": {
            "text/plain": [
              "<keras.callbacks.History at 0x7fed444f4d68>"
            ]
          },
          "execution_count": 51,
          "metadata": {
            "tags": []
          },
          "output_type": "execute_result"
        }
      ],
      "source": [
        "model.fit(x=x,y=y,epochs=2,shuffle=True)"
      ]
    },
    {
      "cell_type": "code",
      "execution_count": null,
      "metadata": {
        "colab": {},
        "colab_type": "code",
        "id": "3Qg2-CxnCKYb"
      },
      "outputs": [],
      "source": [
        "y_test = test['labels']\n",
        "x_test = test.drop(['labels'],axis=1)"
      ]
    },
    {
      "cell_type": "code",
      "execution_count": null,
      "metadata": {
        "colab": {},
        "colab_type": "code",
        "id": "xcLte5bMYfte"
      },
      "outputs": [],
      "source": [
        "from sklearn.preprocessing import LabelEncoder"
      ]
    },
    {
      "cell_type": "code",
      "execution_count": null,
      "metadata": {
        "colab": {},
        "colab_type": "code",
        "id": "1UTk-XbgZPal"
      },
      "outputs": [],
      "source": [
        "le = LabelEncoder()"
      ]
    },
    {
      "cell_type": "code",
      "execution_count": null,
      "metadata": {
        "colab": {},
        "colab_type": "code",
        "id": "RrDuqJK7ZRi_"
      },
      "outputs": [],
      "source": [
        "y_test_e = le.fit_transform(y_test)"
      ]
    },
    {
      "cell_type": "code",
      "execution_count": null,
      "metadata": {
        "colab": {},
        "colab_type": "code",
        "id": "xieVctcdETi2"
      },
      "outputs": [],
      "source": [
        "preds = model.predict(x=x_test)"
      ]
    },
    {
      "cell_type": "markdown",
      "metadata": {
        "colab_type": "text",
        "id": "3cgcBM6h4CP-"
      },
      "source": [
        "## Results really overfitted"
      ]
    },
    {
      "cell_type": "code",
      "execution_count": 57,
      "metadata": {
        "colab": {
          "base_uri": "https://localhost:8080/",
          "height": 202
        },
        "colab_type": "code",
        "id": "mOPHm1bpEnnI",
        "outputId": "728c1152-a1f5-46a0-a027-ee4fb7f1871b"
      },
      "outputs": [
        {
          "name": "stdout",
          "output_type": "stream",
          "text": [
            "               precision    recall  f1-score   support\n",
            "\n",
            "     flooding       0.99      0.04      0.08      8097\n",
            "impersonation       0.00      0.00      0.00     20079\n",
            "    injection       0.92      1.00      0.96     16682\n",
            "       normal       0.95      0.99      0.97    530785\n",
            "\n",
            "    micro avg       0.95      0.95      0.95    575643\n",
            "    macro avg       0.72      0.51      0.50    575643\n",
            " weighted avg       0.92      0.95      0.93    575643\n",
            "\n"
          ]
        }
      ],
      "source": [
        "print(classification_report(y_test_e,np.argmax(preds,axis=-1),target_names=le.classes_))"
      ]
    },
    {
      "cell_type": "code",
      "execution_count": 58,
      "metadata": {
        "colab": {
          "base_uri": "https://localhost:8080/",
          "height": 101
        },
        "colab_type": "code",
        "id": "O35CUVO0ETeY",
        "outputId": "988492b5-6341-478b-a98c-67a78a3a1418"
      },
      "outputs": [
        {
          "name": "stdout",
          "output_type": "stream",
          "text": [
            "Performance measures on Test data\n",
            "Accuracy =  0.9466\n",
            "F1 =  0.9250\n",
            "Precision_score =  0.9169\n",
            "recall_score =  0.9466\n"
          ]
        }
      ],
      "source": [
        "print('Performance measures on Test data')\n",
        "print('Accuracy =  {:.4f}'.format(accuracy_score(y_test_e,np.argmax(preds,axis=-1))))\n",
        "print('F1 =  {:.4f}'.format(f1_score(y_test_e,np.argmax(preds,axis=-1), average='weighted')))\n",
        "print('Precision_score =  {:.4f}'.format(precision_score(y_test_e,np.argmax(preds,axis=-1), average='weighted')))\n",
        "print('recall_score =  {:.4f}'.format(recall_score(y_test_e,np.argmax(preds,axis=-1), average='weighted')))"
      ]
    },
    {
      "cell_type": "code",
      "execution_count": 59,
      "metadata": {
        "colab": {
          "base_uri": "https://localhost:8080/",
          "height": 34
        },
        "colab_type": "code",
        "id": "32ae17RjfTnq",
        "outputId": "4a5beca2-766d-4816-90fa-326b32a4e5f9"
      },
      "outputs": [
        {
          "data": {
            "text/plain": [
              "array(['flooding', 'impersonation', 'injection', 'normal'], dtype=object)"
            ]
          },
          "execution_count": 59,
          "metadata": {
            "tags": []
          },
          "output_type": "execute_result"
        }
      ],
      "source": [
        "le.classes_"
      ]
    },
    {
      "cell_type": "code",
      "execution_count": 60,
      "metadata": {
        "colab": {
          "base_uri": "https://localhost:8080/",
          "height": 381
        },
        "colab_type": "code",
        "id": "1SblH6mtv8ts",
        "outputId": "75077aa0-79f1-4ef2-f949-72403f9e44b6"
      },
      "outputs": [
        {
          "name": "stdout",
          "output_type": "stream",
          "text": [
            "Normalized confusion matrix\n",
            "[[9.95e-01 3.77e-06 2.78e-03 2.62e-03]\n",
            " [9.40e-01 4.00e-02 0.00e+00 2.04e-02]\n",
            " [5.99e-05 0.00e+00 1.00e+00 0.00e+00]\n",
            " [1.00e+00 0.00e+00 0.00e+00 3.49e-04]]\n"
          ]
        },
        {
          "data": {
            "image/png": "[encoded data removed]",
            "text/plain": [
              "<Figure size 432x288 with 2 Axes>"
            ]
          },
          "metadata": {
            "tags": []
          },
          "output_type": "display_data"
        }
      ],
      "source": [
        "order = ['normal', 'flooding', 'injection', 'impersonation']\n",
        "permute_dict = {0:1,1:3,2:2,3:0}\n",
        "\n",
        "\n",
        "y_test_e_permuted = np.vectorize(permute_dict.get)(y_test_e)\n",
        "predictions_permuted = np.vectorize(permute_dict.get)(np.argmax(preds,axis=-1))\n",
        "\n",
        "cnf_matrix = confusion_matrix(y_test_e_permuted,predictions_permuted)\n",
        "np.set_printoptions(precision=2)\n",
        "plt.figure()\n",
        "plot_confusion_matrix(cnf_matrix, classes=order, normalize=True,\n",
        "                      title='MLP Results')\n",
        "plt.tight_layout()\n",
        "plt.savefig('results/confusion_matrix_keras.tif', format='tif', dpi=100)"
      ]
    },
    {
      "cell_type": "markdown",
      "metadata": {
        "colab_type": "text",
        "id": "Pb8qsGN64O8p"
      },
      "source": [
        "## Results with random batches"
      ]
    },
    {
      "cell_type": "code",
      "execution_count": null,
      "metadata": {
        "colab": {},
        "colab_type": "code",
        "id": "MRhmq07u36Ag"
      },
      "outputs": [],
      "source": [
        "keras.backend.clear_session()"
      ]
    },
    {
      "cell_type": "code",
      "execution_count": 62,
      "metadata": {
        "colab": {
          "base_uri": "https://localhost:8080/",
          "height": 235
        },
        "colab_type": "code",
        "id": "3usty8c7ETao",
        "outputId": "f62aec30-3732-472d-f5d2-11b94479f901"
      },
      "outputs": [
        {
          "name": "stdout",
          "output_type": "stream",
          "text": [
            "_________________________________________________________________\n",
            "Layer (type)                 Output Shape              Param #   \n",
            "=================================================================\n",
            "dense_1 (Dense)              (None, 100)               4700      \n",
            "_________________________________________________________________\n",
            "dense_2 (Dense)              (None, 100)               10100     \n",
            "_________________________________________________________________\n",
            "dense_3 (Dense)              (None, 4)                 404       \n",
            "=================================================================\n",
            "Total params: 15,204\n",
            "Trainable params: 15,204\n",
            "Non-trainable params: 0\n",
            "_________________________________________________________________\n"
          ]
        }
      ],
      "source": [
        "model = Sequential()\n",
        "model.add(Dense(100,input_shape=(x.shape[1],) ))\n",
        "model.add(Dense(100))\n",
        "model.add(Dense(y.shape[1]))\n",
        "model.summary()"
      ]
    },
    {
      "cell_type": "code",
      "execution_count": null,
      "metadata": {
        "colab": {},
        "colab_type": "code",
        "id": "A1Fr1k2D4NFI"
      },
      "outputs": [],
      "source": [
        "model.compile(optimizer='adam',loss='mse',metrics=['acc'])"
      ]
    },
    {
      "cell_type": "code",
      "execution_count": 64,
      "metadata": {
        "colab": {
          "base_uri": "https://localhost:8080/",
          "height": 202
        },
        "colab_type": "code",
        "id": "jGqfAVcR4m-v",
        "outputId": "e2505195-b86d-42df-c636-6c2901e0fd18"
      },
      "outputs": [
        {
          "name": "stdout",
          "output_type": "stream",
          "text": [
            "Epoch 1/5\n",
            "100/100 [==============================] - 93s 928ms/step - loss: 0.0784 - acc: 0.9043\n",
            "Epoch 2/5\n",
            "100/100 [==============================] - 92s 922ms/step - loss: 0.0179 - acc: 0.9708\n",
            "Epoch 3/5\n",
            "100/100 [==============================] - 92s 925ms/step - loss: 0.0168 - acc: 0.9702\n",
            "Epoch 4/5\n",
            "100/100 [==============================] - 93s 927ms/step - loss: 0.0168 - acc: 0.9702\n",
            "Epoch 5/5\n",
            "100/100 [==============================] - 92s 923ms/step - loss: 0.0168 - acc: 0.9702\n"
          ]
        },
        {
          "data": {
            "text/plain": [
              "<keras.callbacks.History at 0x7fed447026d8>"
            ]
          },
          "execution_count": 64,
          "metadata": {
            "tags": []
          },
          "output_type": "execute_result"
        }
      ],
      "source": [
        "model.fit(x=x,y=y,steps_per_epoch=100,epochs=5,shuffle=True)"
      ]
    },
    {
      "cell_type": "code",
      "execution_count": null,
      "metadata": {
        "colab": {},
        "colab_type": "code",
        "id": "-JD_6eSE5MLp"
      },
      "outputs": [],
      "source": [
        "preds = model.predict(x=x_test)"
      ]
    },
    {
      "cell_type": "code",
      "execution_count": 66,
      "metadata": {
        "colab": {
          "base_uri": "https://localhost:8080/",
          "height": 202
        },
        "colab_type": "code",
        "id": "1gKzuojz4n-y",
        "outputId": "936d4d9b-133c-47a0-aa90-799272f7b64f"
      },
      "outputs": [
        {
          "name": "stdout",
          "output_type": "stream",
          "text": [
            "               precision    recall  f1-score   support\n",
            "\n",
            "     flooding       0.99      0.04      0.08      8097\n",
            "impersonation       0.09      0.00      0.00     20079\n",
            "    injection       0.92      1.00      0.96     16682\n",
            "       normal       0.95      1.00      0.97    530785\n",
            "\n",
            "    micro avg       0.95      0.95      0.95    575643\n",
            "    macro avg       0.74      0.51      0.50    575643\n",
            " weighted avg       0.92      0.95      0.93    575643\n",
            "\n"
          ]
        }
      ],
      "source": [
        "print(classification_report(y_test_e,np.argmax(preds,axis=-1),target_names=le.classes_))"
      ]
    },
    {
      "cell_type": "code",
      "execution_count": 67,
      "metadata": {
        "colab": {
          "base_uri": "https://localhost:8080/",
          "height": 101
        },
        "colab_type": "code",
        "id": "LhKonA2L4n7-",
        "outputId": "aac277a3-594e-4aa3-f9f8-54f09ebef29d"
      },
      "outputs": [
        {
          "name": "stdout",
          "output_type": "stream",
          "text": [
            "Performance measures on Test data\n",
            "Accuracy =  0.9488\n",
            "F1 =  0.9259\n",
            "Precision_score =  0.9195\n",
            "recall_score =  0.9488\n"
          ]
        }
      ],
      "source": [
        "print('Performance measures on Test data')\n",
        "print('Accuracy =  {:.4f}'.format(accuracy_score(y_test_e,np.argmax(preds,axis=-1))))\n",
        "print('F1 =  {:.4f}'.format(f1_score(y_test_e,np.argmax(preds,axis=-1), average='weighted')))\n",
        "print('Precision_score =  {:.4f}'.format(precision_score(y_test_e,np.argmax(preds,axis=-1), average='weighted')))\n",
        "print('recall_score =  {:.4f}'.format(recall_score(y_test_e,np.argmax(preds,axis=-1), average='weighted')))"
      ]
    },
    {
      "cell_type": "code",
      "execution_count": 68,
      "metadata": {
        "colab": {
          "base_uri": "https://localhost:8080/",
          "height": 381
        },
        "colab_type": "code",
        "id": "HHMTgnDu4n5n",
        "outputId": "31c07ce9-6905-4b68-9c49-a631cbbe19e8"
      },
      "outputs": [
        {
          "name": "stdout",
          "output_type": "stream",
          "text": [
            "Normalized confusion matrix\n",
            "[[9.97e-01 3.77e-06 2.88e-03 1.39e-04]\n",
            " [9.60e-01 4.00e-02 0.00e+00 0.00e+00]\n",
            " [5.99e-05 0.00e+00 1.00e+00 0.00e+00]\n",
            " [1.00e+00 0.00e+00 0.00e+00 3.49e-04]]\n"
          ]
        },
        {
          "data": {
            "image/png": "[encoded data removed]",
            "text/plain": [
              "<Figure size 432x288 with 2 Axes>"
            ]
          },
          "metadata": {
            "tags": []
          },
          "output_type": "display_data"
        }
      ],
      "source": [
        "order = ['normal', 'flooding', 'injection', 'impersonation']\n",
        "permute_dict = {0:1,1:3,2:2,3:0}\n",
        "\n",
        "\n",
        "y_test_e_permuted = np.vectorize(permute_dict.get)(y_test_e)\n",
        "predictions_permuted = np.vectorize(permute_dict.get)(np.argmax(preds,axis=-1))\n",
        "\n",
        "cnf_matrix = confusion_matrix(y_test_e_permuted,predictions_permuted)\n",
        "np.set_printoptions(precision=2)\n",
        "plt.figure()\n",
        "plot_confusion_matrix(cnf_matrix, classes=le.classes_, normalize=True,\n",
        "                      title='MLP Results')\n",
        "plt.tight_layout()\n",
        "plt.savefig('results/confusion_matrix_keras2.tif', format='tif', dpi=100)"
      ]
    },
    {
      "cell_type": "markdown",
      "metadata": {
        "colab_type": "text",
        "id": "Lf0sZoGtwJij"
      },
      "source": [
        "### SMOTE"
      ]
    },
    {
      "cell_type": "code",
      "execution_count": null,
      "metadata": {
        "colab": {},
        "colab_type": "code",
        "id": "GGkLioZb5V2Y"
      },
      "outputs": [],
      "source": [
        "import gc"
      ]
    },
    {
      "cell_type": "code",
      "execution_count": null,
      "metadata": {
        "colab": {},
        "colab_type": "code",
        "id": "fkD5JiJn2rtL"
      },
      "outputs": [],
      "source": [
        "from imblearn.over_sampling import SMOTE\n",
        "from imblearn.under_sampling  import ClusterCentroids"
      ]
    },
    {
      "cell_type": "code",
      "execution_count": 71,
      "metadata": {
        "colab": {
          "base_uri": "https://localhost:8080/",
          "height": 50
        },
        "colab_type": "code",
        "id": "4hX1orkXqWsq",
        "outputId": "20307f46-f79a-4288-cacc-69fdc4964019"
      },
      "outputs": [
        {
          "name": "stdout",
          "output_type": "stream",
          "text": [
            "(1795575, 46)\n",
            "(1795575, 4)\n"
          ]
        }
      ],
      "source": [
        "print(x.values.shape)\n",
        "print(y.values.shape)"
      ]
    },
    {
      "cell_type": "code",
      "execution_count": null,
      "metadata": {
        "colab": {},
        "colab_type": "code",
        "id": "Bebq5ryd36Ph"
      },
      "outputs": [],
      "source": [
        "X_resampled, y_resampled = SMOTE().fit_resample(x.values, y.values)"
      ]
    },
    {
      "cell_type": "code",
      "execution_count": null,
      "metadata": {
        "colab": {},
        "colab_type": "code",
        "id": "LgQE-igV4vED"
      },
      "outputs": [],
      "source": [
        "indices = np.random.randint(0,y_resampled.shape[0],1000000)"
      ]
    },
    {
      "cell_type": "code",
      "execution_count": null,
      "metadata": {
        "colab": {},
        "colab_type": "code",
        "id": "OORAiqI-3pmw"
      },
      "outputs": [],
      "source": [
        "sub_X = X_resampled[indices]\n",
        "sub_y = y_resampled[indices]"
      ]
    },
    {
      "cell_type": "code",
      "execution_count": 75,
      "metadata": {
        "colab": {
          "base_uri": "https://localhost:8080/",
          "height": 34
        },
        "colab_type": "code",
        "id": "sw-0CkqP4RES",
        "outputId": "a86f8842-662c-4657-c782-ceec6c52eecc"
      },
      "outputs": [
        {
          "data": {
            "text/plain": [
              "array([250113, 250094, 250311, 249482])"
            ]
          },
          "execution_count": 75,
          "metadata": {
            "tags": []
          },
          "output_type": "execute_result"
        }
      ],
      "source": [
        "sub_y.sum(axis=0)"
      ]
    },
    {
      "cell_type": "code",
      "execution_count": null,
      "metadata": {
        "colab": {},
        "colab_type": "code",
        "id": "dyaQnAkF36NI"
      },
      "outputs": [],
      "source": [
        "keras.backend.clear_session()"
      ]
    },
    {
      "cell_type": "code",
      "execution_count": 77,
      "metadata": {
        "colab": {
          "base_uri": "https://localhost:8080/",
          "height": 34
        },
        "colab_type": "code",
        "id": "5IpkJNHfumur",
        "outputId": "6a464e6e-fc78-4164-d7a3-88d2941365e1"
      },
      "outputs": [
        {
          "data": {
            "text/plain": [
              "0"
            ]
          },
          "execution_count": 77,
          "metadata": {
            "tags": []
          },
          "output_type": "execute_result"
        }
      ],
      "source": [
        "gc.collect()"
      ]
    },
    {
      "cell_type": "code",
      "execution_count": 78,
      "metadata": {
        "colab": {
          "base_uri": "https://localhost:8080/",
          "height": 34
        },
        "colab_type": "code",
        "id": "WEmrPc73xf2F",
        "outputId": "84af803e-5632-453d-cb43-945a47074aaa"
      },
      "outputs": [
        {
          "data": {
            "text/plain": [
              "(6532760, 4)"
            ]
          },
          "execution_count": 78,
          "metadata": {
            "tags": []
          },
          "output_type": "execute_result"
        }
      ],
      "source": [
        "y_resampled.shape"
      ]
    },
    {
      "cell_type": "code",
      "execution_count": 79,
      "metadata": {
        "colab": {
          "base_uri": "https://localhost:8080/",
          "height": 235
        },
        "colab_type": "code",
        "id": "IeeG-QVR36KN",
        "outputId": "7ef2bfca-8bb6-4da5-a959-51e60eb5d7f9"
      },
      "outputs": [
        {
          "name": "stdout",
          "output_type": "stream",
          "text": [
            "_________________________________________________________________\n",
            "Layer (type)                 Output Shape              Param #   \n",
            "=================================================================\n",
            "dense_1 (Dense)              (None, 100)               4700      \n",
            "_________________________________________________________________\n",
            "dense_2 (Dense)              (None, 100)               10100     \n",
            "_________________________________________________________________\n",
            "dense_3 (Dense)              (None, 4)                 404       \n",
            "=================================================================\n",
            "Total params: 15,204\n",
            "Trainable params: 15,204\n",
            "Non-trainable params: 0\n",
            "_________________________________________________________________\n"
          ]
        }
      ],
      "source": [
        "model = Sequential()\n",
        "model.add(Dense(100,input_shape=(sub_X.shape[1],) ))\n",
        "model.add(Dense(100))\n",
        "model.add(Dense(sub_y.shape[1]))\n",
        "model.summary()"
      ]
    },
    {
      "cell_type": "code",
      "execution_count": 80,
      "metadata": {
        "colab": {
          "base_uri": "https://localhost:8080/",
          "height": 706
        },
        "colab_type": "code",
        "id": "Kyi07IbS36FA",
        "outputId": "e1c8e185-b7b9-4cb1-ecb9-9dc9aa3cbce0"
      },
      "outputs": [
        {
          "name": "stdout",
          "output_type": "stream",
          "text": [
            "Epoch 1/20\n",
            "100/100 [==============================] - 30s 301ms/step - loss: 0.0285 - acc: 0.8910\n",
            "Epoch 2/20\n",
            "100/100 [==============================] - 30s 298ms/step - loss: 0.0106 - acc: 0.9493\n",
            "Epoch 3/20\n",
            "100/100 [==============================] - 30s 298ms/step - loss: 0.0105 - acc: 0.9513\n",
            "Epoch 4/20\n",
            "100/100 [==============================] - 30s 298ms/step - loss: 0.0105 - acc: 0.9524\n",
            "Epoch 5/20\n",
            "100/100 [==============================] - 30s 301ms/step - loss: 0.0105 - acc: 0.9532\n",
            "Epoch 6/20\n",
            "100/100 [==============================] - 30s 299ms/step - loss: 0.0105 - acc: 0.9534\n",
            "Epoch 7/20\n",
            "100/100 [==============================] - 30s 299ms/step - loss: 0.0105 - acc: 0.9533\n",
            "Epoch 8/20\n",
            "100/100 [==============================] - 30s 300ms/step - loss: 0.0105 - acc: 0.9531\n",
            "Epoch 9/20\n",
            "100/100 [==============================] - 30s 301ms/step - loss: 0.0105 - acc: 0.9530\n",
            "Epoch 10/20\n",
            "100/100 [==============================] - 30s 299ms/step - loss: 0.0104 - acc: 0.9529\n",
            "Epoch 11/20\n",
            "100/100 [==============================] - 30s 302ms/step - loss: 0.0104 - acc: 0.9528\n",
            "Epoch 12/20\n",
            "100/100 [==============================] - 30s 301ms/step - loss: 0.0104 - acc: 0.9527\n",
            "Epoch 13/20\n",
            "100/100 [==============================] - 30s 298ms/step - loss: 0.0104 - acc: 0.9527\n",
            "Epoch 14/20\n",
            "100/100 [==============================] - 30s 301ms/step - loss: 0.0105 - acc: 0.9537\n",
            "Epoch 15/20\n",
            "100/100 [==============================] - 30s 301ms/step - loss: 0.0104 - acc: 0.9525\n",
            "Epoch 16/20\n",
            "100/100 [==============================] - 30s 302ms/step - loss: 0.0105 - acc: 0.9534\n",
            "Epoch 17/20\n",
            "100/100 [==============================] - 30s 301ms/step - loss: 0.0104 - acc: 0.9529\n",
            "Epoch 18/20\n",
            "100/100 [==============================] - 30s 301ms/step - loss: 0.0104 - acc: 0.9524\n",
            "Epoch 19/20\n",
            "100/100 [==============================] - 30s 301ms/step - loss: 0.0105 - acc: 0.9535\n",
            "Epoch 20/20\n",
            "100/100 [==============================] - 30s 301ms/step - loss: 0.0105 - acc: 0.9535\n"
          ]
        },
        {
          "data": {
            "text/plain": [
              "<keras.callbacks.History at 0x7fed4381e358>"
            ]
          },
          "execution_count": 80,
          "metadata": {
            "tags": []
          },
          "output_type": "execute_result"
        }
      ],
      "source": [
        "model.compile(optimizer='adam',loss=huber_loss,metrics=['acc'])\n",
        "model.fit(x=sub_X,y=sub_y,steps_per_epoch=100,epochs=20,shuffle=True)"
      ]
    },
    {
      "cell_type": "code",
      "execution_count": null,
      "metadata": {
        "colab": {},
        "colab_type": "code",
        "id": "8EL0cH1vvg9j"
      },
      "outputs": [],
      "source": []
    },
    {
      "cell_type": "code",
      "execution_count": null,
      "metadata": {
        "colab": {},
        "colab_type": "code",
        "id": "VaMpY1eavg7P"
      },
      "outputs": [],
      "source": [
        "preds = model.predict(x=x_test)"
      ]
    },
    {
      "cell_type": "code",
      "execution_count": 82,
      "metadata": {
        "colab": {
          "base_uri": "https://localhost:8080/",
          "height": 202
        },
        "colab_type": "code",
        "id": "svf56Pkyvg4q",
        "outputId": "d87ddc74-009f-423b-b627-08c8a443cc98"
      },
      "outputs": [
        {
          "name": "stdout",
          "output_type": "stream",
          "text": [
            "               precision    recall  f1-score   support\n",
            "\n",
            "     flooding       0.60      0.62      0.61      8097\n",
            "impersonation       0.34      0.93      0.50     20079\n",
            "    injection       0.41      1.00      0.58     16682\n",
            "       normal       0.99      0.88      0.93    530785\n",
            "\n",
            "    micro avg       0.88      0.88      0.88    575643\n",
            "    macro avg       0.58      0.86      0.65    575643\n",
            " weighted avg       0.95      0.88      0.90    575643\n",
            "\n"
          ]
        }
      ],
      "source": [
        "print(classification_report(y_test_e,np.argmax(preds,axis=-1),target_names=le.classes_))"
      ]
    },
    {
      "cell_type": "code",
      "execution_count": 83,
      "metadata": {
        "colab": {
          "base_uri": "https://localhost:8080/",
          "height": 101
        },
        "colab_type": "code",
        "id": "vAfWOv4nvg2U",
        "outputId": "6ddc9640-286c-458e-ea9c-096a06f8fd6c"
      },
      "outputs": [
        {
          "name": "stdout",
          "output_type": "stream",
          "text": [
            "Performance measures on Test data\n",
            "Accuracy =  0.8813\n",
            "F1 =  0.9020\n",
            "Precision_score =  0.9455\n",
            "recall_score =  0.8813\n"
          ]
        }
      ],
      "source": [
        "print('Performance measures on Test data')\n",
        "print('Accuracy =  {:.4f}'.format(accuracy_score(y_test_e,np.argmax(preds,axis=-1))))\n",
        "print('F1 =  {:.4f}'.format(f1_score(y_test_e,np.argmax(preds,axis=-1), average='weighted')))\n",
        "print('Precision_score =  {:.4f}'.format(precision_score(y_test_e,np.argmax(preds,axis=-1), average='weighted')))\n",
        "print('recall_score =  {:.4f}'.format(recall_score(y_test_e,np.argmax(preds,axis=-1), average='weighted')))"
      ]
    },
    {
      "cell_type": "code",
      "execution_count": 84,
      "metadata": {
        "colab": {
          "base_uri": "https://localhost:8080/",
          "height": 381
        },
        "colab_type": "code",
        "id": "OMht0Ud8vgz4",
        "outputId": "49a34fa9-351b-43ea-8e2d-97f1d064ccc7"
      },
      "outputs": [
        {
          "name": "stdout",
          "output_type": "stream",
          "text": [
            "Normalized confusion matrix\n",
            "[[8.80e-01 6.04e-03 4.59e-02 6.82e-02]\n",
            " [3.82e-01 6.18e-01 0.00e+00 0.00e+00]\n",
            " [5.99e-05 0.00e+00 1.00e+00 0.00e+00]\n",
            " [6.52e-02 8.22e-03 0.00e+00 9.27e-01]]\n"
          ]
        },
        {
          "data": {
            "image/png": "[encoded data removed]",
            "text/plain": [
              "<Figure size 432x288 with 2 Axes>"
            ]
          },
          "metadata": {
            "tags": []
          },
          "output_type": "display_data"
        }
      ],
      "source": [
        "order = ['normal', 'flooding', 'injection', 'impersonation']\n",
        "permute_dict = {0:1,1:3,2:2,3:0}\n",
        "\n",
        "\n",
        "y_test_e_permuted = np.vectorize(permute_dict.get)(y_test_e)\n",
        "predictions_permuted = np.vectorize(permute_dict.get)(np.argmax(preds,axis=-1))\n",
        "\n",
        "cnf_matrix = confusion_matrix(y_test_e_permuted,predictions_permuted)\n",
        "np.set_printoptions(precision=2)\n",
        "plt.figure()\n",
        "plot_confusion_matrix(cnf_matrix, classes=le.classes_, normalize=True,\n",
        "                      title='Over Sampling')\n",
        "plt.tight_layout()\n",
        "plt.savefig('results/confusion_matrix_keras_OverSampl.tif', format='tif', dpi=100)"
      ]
    },
    {
      "cell_type": "markdown",
      "metadata": {
        "colab_type": "text",
        "id": "ZtSVYZjsmfM-"
      },
      "source": [
        "### Data distribution"
      ]
    },
    {
      "cell_type": "code",
      "execution_count": 85,
      "metadata": {
        "colab": {
          "base_uri": "https://localhost:8080/",
          "height": 585
        },
        "colab_type": "code",
        "id": "2k3OXg5J4NCp",
        "outputId": "d1ceb129-f878-4f10-bc03-ce66ece41198"
      },
      "outputs": [
        {
          "data": {
            "image/png": "[encoded data removed]",
            "text/plain": [
              "<Figure size 720x576 with 1 Axes>"
            ]
          },
          "metadata": {
            "tags": []
          },
          "output_type": "display_data"
        }
      ],
      "source": [
        "train['labels'].groupby(train['labels']).count().plot(kind=\"bar\",figsize=[10,8],rot=33,title=\"Train set\")\n",
        "plt.tight_layout()\n",
        "plt.savefig('results/train_distributio.tif', format='tif', dpi=100)"
      ]
    },
    {
      "cell_type": "code",
      "execution_count": 86,
      "metadata": {
        "colab": {
          "base_uri": "https://localhost:8080/",
          "height": 585
        },
        "colab_type": "code",
        "id": "XWM7YwB54M7q",
        "outputId": "370b7d8b-d898-4c53-9f12-cab3d0cc3f1d"
      },
      "outputs": [
        {
          "data": {
            "image/png": "[encoded data removed]",
            "text/plain": [
              "<Figure size 720x576 with 1 Axes>"
            ]
          },
          "metadata": {
            "tags": []
          },
          "output_type": "display_data"
        }
      ],
      "source": [
        "test['labels'].groupby(test['labels']).count().plot(kind=\"bar\",figsize=[10,8],rot=33,title=\"Test set\")\n",
        "plt.tight_layout()\n",
        "plt.savefig('results/test_distributio.tif', format='tif', dpi=100)"
      ]
    },
    {
      "cell_type": "markdown",
      "metadata": {
        "colab_type": "text",
        "id": "FGEi8G53mjjU"
      },
      "source": [
        "### Save figures for download"
      ]
    },
    {
      "cell_type": "code",
      "execution_count": 103,
      "metadata": {
        "colab": {
          "base_uri": "https://localhost:8080/",
          "height": 185
        },
        "colab_type": "code",
        "id": "zBwYXT0AmrG8",
        "outputId": "f9b1256a-7e81-4c4b-92c1-ba86b0951528"
      },
      "outputs": [
        {
          "name": "stdout",
          "output_type": "stream",
          "text": [
            "  adding: results/Attacks_distribution.svg (deflated 81%)\n",
            "  adding: results/Attacks_mapped_distribution.tif (deflated 99%)\n",
            "  adding: results/confusion_matrix_adversarial.tif (deflated 97%)\n",
            "  adding: results/confusion_matrix_keras2.tif (deflated 97%)\n",
            "  adding: results/confusion_matrix_keras_OverSampl.tif (deflated 97%)\n",
            "  adding: results/confusion_matrix_keras.tif (deflated 97%)\n",
            "  adding: results/test_adv_imp.tif (deflated 99%)\n",
            "  adding: results/test_distributio.tif (deflated 99%)\n",
            "  adding: results/train_adv.tif (deflated 96%)\n",
            "  adding: results/train_distributio.tif (deflated 99%)\n"
          ]
        }
      ],
      "source": [
        "!zip results.zip results/*"
      ]
    },
    {
      "cell_type": "code",
      "execution_count": 104,
      "metadata": {
        "colab": {
          "base_uri": "https://localhost:8080/",
          "height": 50
        },
        "colab_type": "code",
        "id": "XZNLSgSMKrwW",
        "outputId": "def014b7-b495-43d3-b491-40d05be4dcb0"
      },
      "outputs": [
        {
          "name": "stdout",
          "output_type": "stream",
          "text": [
            "  adding: models/defender_agent_model.h5 (deflated 20%)\n",
            "  adding: models/defender_agent_model.json (deflated 85%)\n"
          ]
        }
      ],
      "source": [
        "!zip AE-RLmodels.zip models/*"
      ]
    },
    {
      "cell_type": "code",
      "execution_count": null,
      "metadata": {
        "colab": {},
        "colab_type": "code",
        "id": "-u658AZkLQhA"
      },
      "outputs": [],
      "source": []
    }
  ],
  "metadata": {
    "accelerator": "GPU",
    "colab": {
      "collapsed_sections": [],
      "include_colab_link": true,
      "name": "AE_RL_awid.ipynb",
      "provenance": [],
      "toc_visible": true,
      "version": "0.3.2"
    },
    "kernelspec": {
      "display_name": "Python 3",
      "name": "python3"
    }
  },
  "nbformat": 4,
  "nbformat_minor": 0
}
